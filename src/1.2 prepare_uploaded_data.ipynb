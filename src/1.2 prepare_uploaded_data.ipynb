{
  "cells": [
    {
      "cell_type": "code",
      "execution_count": 15,
      "id": "a16db85f",
      "metadata": {
        "id": "a16db85f"
      },
      "outputs": [],
      "source": [
        "import requests\n",
        "import time\n",
        "import pandas as pd\n",
        "import numpy as np"
      ]
    },
    {
      "cell_type": "markdown",
      "source": [
        "# Data extraction"
      ],
      "metadata": {
        "id": "RtS23DIyL0Hy"
      },
      "id": "RtS23DIyL0Hy"
    },
    {
      "cell_type": "code",
      "execution_count": 41,
      "id": "fb3abb57",
      "metadata": {
        "id": "fb3abb57"
      },
      "outputs": [],
      "source": [
        "token = '7890956e-a2bf-42ef-863e-83cdaae50174'\n",
        "headers={'accept':'application/json', 'X-API-KEY': token}\n",
        "films_path = \"/content/drive/MyDrive/Учеба/2 сем/NLP/HWs/HW3/andru_preprocessing/film_num_list.txt\"\n",
        "lst_success = 2728\n"
      ]
    },
    {
      "cell_type": "code",
      "execution_count": 34,
      "id": "5606545d",
      "metadata": {
        "id": "5606545d"
      },
      "outputs": [],
      "source": [
        "films = []"
      ]
    },
    {
      "cell_type": "code",
      "execution_count": 35,
      "id": "45d651fd",
      "metadata": {
        "id": "45d651fd"
      },
      "outputs": [],
      "source": [
        "class Film:\n",
        "    def __init__(self, id, name, rewiews):\n",
        "        self.id = id\n",
        "        self.name = name\n",
        "        self.rewiews = rewiews"
      ]
    },
    {
      "cell_type": "code",
      "execution_count": 36,
      "id": "61bb4da2",
      "metadata": {
        "id": "61bb4da2"
      },
      "outputs": [],
      "source": [
        "def get_film(id):\n",
        "    response = requests.get('https://kinopoiskapiunofficial.tech/api/v2.2/films/{0}'.format(id), headers=headers)\n",
        "    filmJson = response.json()\n",
        "    if 'error' in filmJson:\n",
        "      print(filmJson)\n",
        "      print(int(1) / int(0))\n",
        "    if 'nameRu' not in filmJson:\n",
        "      return None\n",
        "    name = filmJson['nameRu']\n",
        "    # print(filmJson)\n",
        "    reviews = []\n",
        "    reviewsCount = filmJson['reviewsCount']\n",
        "    count = reviewsCount / 20 if reviewsCount % 20 == 0 else reviewsCount / 20 + 1\n",
        "    for i in range(1, int(count) + 1):\n",
        "        response = requests.get('https://kinopoiskapiunofficial.tech/api/v1/reviews?filmId={0}&page={1}'.format(id, i), headers=headers)\n",
        "        j = response.json()\n",
        "        for r in j['reviews']:\n",
        "            reviews.append(r)\n",
        "        time.sleep(0.005)\n",
        "    return Film(id, name, reviews)"
      ]
    },
    {
      "cell_type": "code",
      "execution_count": 39,
      "id": "b457dc0e",
      "metadata": {
        "id": "b457dc0e"
      },
      "outputs": [],
      "source": [
        "df = pd.read_csv(films_path, header=None)"
      ]
    },
    {
      "cell_type": "code",
      "source": [
        "f = get_film(1793)"
      ],
      "metadata": {
        "id": "6_WimKsfAqkv"
      },
      "id": "6_WimKsfAqkv",
      "execution_count": 42,
      "outputs": []
    },
    {
      "cell_type": "code",
      "source": [
        "f.rewiews\n",
        "\n",
        "# necessary column names\n",
        "reviewDescription\n",
        "reviewType\n",
        "userNegativeRating\n",
        "userPositiveRating"
      ],
      "metadata": {
        "id": "t7E8CHJKBbNM"
      },
      "id": "t7E8CHJKBbNM",
      "execution_count": null,
      "outputs": []
    },
    {
      "cell_type": "code",
      "execution_count": 43,
      "id": "dda7c50f",
      "metadata": {
        "colab": {
          "base_uri": "https://localhost:8080/",
          "height": 374
        },
        "id": "dda7c50f",
        "outputId": "bed77d92-451d-482d-eea8-016285ca6eae"
      },
      "outputs": [
        {
          "output_type": "stream",
          "name": "stdout",
          "text": [
            "2728{'timestamp': '2022-04-09T14:17:07.928+00:00', 'status': 402, 'error': 'Payment Required', 'path': '/api/v2.2/films/2728'}\n"
          ]
        },
        {
          "output_type": "error",
          "ename": "ZeroDivisionError",
          "evalue": "ignored",
          "traceback": [
            "\u001b[0;31m---------------------------------------------------------------------------\u001b[0m",
            "\u001b[0;31mZeroDivisionError\u001b[0m                         Traceback (most recent call last)",
            "\u001b[0;32m<ipython-input-43-167d32446492>\u001b[0m in \u001b[0;36m<module>\u001b[0;34m()\u001b[0m\n\u001b[1;32m      3\u001b[0m \u001b[0;32mfor\u001b[0m \u001b[0mid\u001b[0m \u001b[0;32min\u001b[0m \u001b[0mfilter\u001b[0m\u001b[0;34m(\u001b[0m\u001b[0;32mlambda\u001b[0m \u001b[0mx\u001b[0m\u001b[0;34m:\u001b[0m \u001b[0mx\u001b[0m \u001b[0;34m>\u001b[0m \u001b[0mlst_success\u001b[0m\u001b[0;34m,\u001b[0m \u001b[0mids\u001b[0m\u001b[0;34m)\u001b[0m\u001b[0;34m:\u001b[0m\u001b[0;34m\u001b[0m\u001b[0;34m\u001b[0m\u001b[0m\n\u001b[1;32m      4\u001b[0m     \u001b[0mprint\u001b[0m\u001b[0;34m(\u001b[0m\u001b[0;34m'\\r'\u001b[0m \u001b[0;34m+\u001b[0m \u001b[0mstr\u001b[0m\u001b[0;34m(\u001b[0m\u001b[0mid\u001b[0m\u001b[0;34m)\u001b[0m\u001b[0;34m,\u001b[0m \u001b[0msep\u001b[0m\u001b[0;34m=\u001b[0m\u001b[0;34m' '\u001b[0m\u001b[0;34m,\u001b[0m \u001b[0mend\u001b[0m\u001b[0;34m=\u001b[0m\u001b[0;34m''\u001b[0m\u001b[0;34m,\u001b[0m \u001b[0mflush\u001b[0m\u001b[0;34m=\u001b[0m\u001b[0;32mTrue\u001b[0m\u001b[0;34m)\u001b[0m\u001b[0;34m\u001b[0m\u001b[0;34m\u001b[0m\u001b[0m\n\u001b[0;32m----> 5\u001b[0;31m     \u001b[0mf\u001b[0m \u001b[0;34m=\u001b[0m \u001b[0mget_film\u001b[0m\u001b[0;34m(\u001b[0m\u001b[0mid\u001b[0m\u001b[0;34m)\u001b[0m\u001b[0;34m\u001b[0m\u001b[0;34m\u001b[0m\u001b[0m\n\u001b[0m\u001b[1;32m      6\u001b[0m     \u001b[0;32mif\u001b[0m \u001b[0mf\u001b[0m \u001b[0;32mis\u001b[0m \u001b[0;32mnot\u001b[0m \u001b[0;32mNone\u001b[0m\u001b[0;34m:\u001b[0m\u001b[0;34m\u001b[0m\u001b[0;34m\u001b[0m\u001b[0m\n\u001b[1;32m      7\u001b[0m       \u001b[0mfilms\u001b[0m\u001b[0;34m.\u001b[0m\u001b[0mappend\u001b[0m\u001b[0;34m(\u001b[0m\u001b[0mf\u001b[0m\u001b[0;34m)\u001b[0m\u001b[0;34m\u001b[0m\u001b[0;34m\u001b[0m\u001b[0m\n",
            "\u001b[0;32m<ipython-input-36-0249649be685>\u001b[0m in \u001b[0;36mget_film\u001b[0;34m(id)\u001b[0m\n\u001b[1;32m      4\u001b[0m     \u001b[0;32mif\u001b[0m \u001b[0;34m'error'\u001b[0m \u001b[0;32min\u001b[0m \u001b[0mfilmJson\u001b[0m\u001b[0;34m:\u001b[0m\u001b[0;34m\u001b[0m\u001b[0;34m\u001b[0m\u001b[0m\n\u001b[1;32m      5\u001b[0m       \u001b[0mprint\u001b[0m\u001b[0;34m(\u001b[0m\u001b[0mfilmJson\u001b[0m\u001b[0;34m)\u001b[0m\u001b[0;34m\u001b[0m\u001b[0;34m\u001b[0m\u001b[0m\n\u001b[0;32m----> 6\u001b[0;31m       \u001b[0mprint\u001b[0m\u001b[0;34m(\u001b[0m\u001b[0mint\u001b[0m\u001b[0;34m(\u001b[0m\u001b[0;36m1\u001b[0m\u001b[0;34m)\u001b[0m \u001b[0;34m/\u001b[0m \u001b[0mint\u001b[0m\u001b[0;34m(\u001b[0m\u001b[0;36m0\u001b[0m\u001b[0;34m)\u001b[0m\u001b[0;34m)\u001b[0m\u001b[0;34m\u001b[0m\u001b[0;34m\u001b[0m\u001b[0m\n\u001b[0m\u001b[1;32m      7\u001b[0m     \u001b[0;32mif\u001b[0m \u001b[0;34m'nameRu'\u001b[0m \u001b[0;32mnot\u001b[0m \u001b[0;32min\u001b[0m \u001b[0mfilmJson\u001b[0m\u001b[0;34m:\u001b[0m\u001b[0;34m\u001b[0m\u001b[0;34m\u001b[0m\u001b[0m\n\u001b[1;32m      8\u001b[0m       \u001b[0;32mreturn\u001b[0m \u001b[0;32mNone\u001b[0m\u001b[0;34m\u001b[0m\u001b[0;34m\u001b[0m\u001b[0m\n",
            "\u001b[0;31mZeroDivisionError\u001b[0m: division by zero"
          ]
        }
      ],
      "source": [
        "ids = list(df[0])\n",
        "ids.sort()\n",
        "for id in filter(lambda x: x > lst_success, ids):\n",
        "    print('\\r' + str(id), sep=' ', end='', flush=True)\n",
        "    f = get_film(id)\n",
        "    if f is not None:\n",
        "      films.append(f)\n",
        "    "
      ]
    },
    {
      "cell_type": "code",
      "source": [
        "# Save data\n",
        "films_copy = films.copy()"
      ],
      "metadata": {
        "id": "W5mc4jbnFo0j"
      },
      "id": "W5mc4jbnFo0j",
      "execution_count": 44,
      "outputs": []
    },
    {
      "cell_type": "code",
      "source": [
        "import pandas as pd\n",
        "import numpy as np\n",
        "\n",
        "# Create empty DataFrame\n",
        "columns = ['film_id', 'film_name', 'film_review', 'pos/neg', 'user_likes', 'user_dislikes']\n",
        "reviews_for_csv = pd.DataFrame(columns = columns)\n",
        "reviews_for_csv"
      ],
      "metadata": {
        "colab": {
          "base_uri": "https://localhost:8080/",
          "height": 49
        },
        "id": "NSqJeaPNGZnd",
        "outputId": "e2e793d1-2834-4612-ad83-cfef87ea195f"
      },
      "id": "NSqJeaPNGZnd",
      "execution_count": 45,
      "outputs": [
        {
          "output_type": "execute_result",
          "data": {
            "text/plain": [
              "Empty DataFrame\n",
              "Columns: [film_id, film_name, film_review, pos/neg, user_likes, user_dislikes]\n",
              "Index: []"
            ],
            "text/html": [
              "\n",
              "  <div id=\"df-a09bbf8f-00cc-4e04-a2ed-7b8fb530e810\">\n",
              "    <div class=\"colab-df-container\">\n",
              "      <div>\n",
              "<style scoped>\n",
              "    .dataframe tbody tr th:only-of-type {\n",
              "        vertical-align: middle;\n",
              "    }\n",
              "\n",
              "    .dataframe tbody tr th {\n",
              "        vertical-align: top;\n",
              "    }\n",
              "\n",
              "    .dataframe thead th {\n",
              "        text-align: right;\n",
              "    }\n",
              "</style>\n",
              "<table border=\"1\" class=\"dataframe\">\n",
              "  <thead>\n",
              "    <tr style=\"text-align: right;\">\n",
              "      <th></th>\n",
              "      <th>film_id</th>\n",
              "      <th>film_name</th>\n",
              "      <th>film_review</th>\n",
              "      <th>pos/neg</th>\n",
              "      <th>user_likes</th>\n",
              "      <th>user_dislikes</th>\n",
              "    </tr>\n",
              "  </thead>\n",
              "  <tbody>\n",
              "  </tbody>\n",
              "</table>\n",
              "</div>\n",
              "      <button class=\"colab-df-convert\" onclick=\"convertToInteractive('df-a09bbf8f-00cc-4e04-a2ed-7b8fb530e810')\"\n",
              "              title=\"Convert this dataframe to an interactive table.\"\n",
              "              style=\"display:none;\">\n",
              "        \n",
              "  <svg xmlns=\"http://www.w3.org/2000/svg\" height=\"24px\"viewBox=\"0 0 24 24\"\n",
              "       width=\"24px\">\n",
              "    <path d=\"M0 0h24v24H0V0z\" fill=\"none\"/>\n",
              "    <path d=\"M18.56 5.44l.94 2.06.94-2.06 2.06-.94-2.06-.94-.94-2.06-.94 2.06-2.06.94zm-11 1L8.5 8.5l.94-2.06 2.06-.94-2.06-.94L8.5 2.5l-.94 2.06-2.06.94zm10 10l.94 2.06.94-2.06 2.06-.94-2.06-.94-.94-2.06-.94 2.06-2.06.94z\"/><path d=\"M17.41 7.96l-1.37-1.37c-.4-.4-.92-.59-1.43-.59-.52 0-1.04.2-1.43.59L10.3 9.45l-7.72 7.72c-.78.78-.78 2.05 0 2.83L4 21.41c.39.39.9.59 1.41.59.51 0 1.02-.2 1.41-.59l7.78-7.78 2.81-2.81c.8-.78.8-2.07 0-2.86zM5.41 20L4 18.59l7.72-7.72 1.47 1.35L5.41 20z\"/>\n",
              "  </svg>\n",
              "      </button>\n",
              "      \n",
              "  <style>\n",
              "    .colab-df-container {\n",
              "      display:flex;\n",
              "      flex-wrap:wrap;\n",
              "      gap: 12px;\n",
              "    }\n",
              "\n",
              "    .colab-df-convert {\n",
              "      background-color: #E8F0FE;\n",
              "      border: none;\n",
              "      border-radius: 50%;\n",
              "      cursor: pointer;\n",
              "      display: none;\n",
              "      fill: #1967D2;\n",
              "      height: 32px;\n",
              "      padding: 0 0 0 0;\n",
              "      width: 32px;\n",
              "    }\n",
              "\n",
              "    .colab-df-convert:hover {\n",
              "      background-color: #E2EBFA;\n",
              "      box-shadow: 0px 1px 2px rgba(60, 64, 67, 0.3), 0px 1px 3px 1px rgba(60, 64, 67, 0.15);\n",
              "      fill: #174EA6;\n",
              "    }\n",
              "\n",
              "    [theme=dark] .colab-df-convert {\n",
              "      background-color: #3B4455;\n",
              "      fill: #D2E3FC;\n",
              "    }\n",
              "\n",
              "    [theme=dark] .colab-df-convert:hover {\n",
              "      background-color: #434B5C;\n",
              "      box-shadow: 0px 1px 3px 1px rgba(0, 0, 0, 0.15);\n",
              "      filter: drop-shadow(0px 1px 2px rgba(0, 0, 0, 0.3));\n",
              "      fill: #FFFFFF;\n",
              "    }\n",
              "  </style>\n",
              "\n",
              "      <script>\n",
              "        const buttonEl =\n",
              "          document.querySelector('#df-a09bbf8f-00cc-4e04-a2ed-7b8fb530e810 button.colab-df-convert');\n",
              "        buttonEl.style.display =\n",
              "          google.colab.kernel.accessAllowed ? 'block' : 'none';\n",
              "\n",
              "        async function convertToInteractive(key) {\n",
              "          const element = document.querySelector('#df-a09bbf8f-00cc-4e04-a2ed-7b8fb530e810');\n",
              "          const dataTable =\n",
              "            await google.colab.kernel.invokeFunction('convertToInteractive',\n",
              "                                                     [key], {});\n",
              "          if (!dataTable) return;\n",
              "\n",
              "          const docLinkHtml = 'Like what you see? Visit the ' +\n",
              "            '<a target=\"_blank\" href=https://colab.research.google.com/notebooks/data_table.ipynb>data table notebook</a>'\n",
              "            + ' to learn more about interactive tables.';\n",
              "          element.innerHTML = '';\n",
              "          dataTable['output_type'] = 'display_data';\n",
              "          await google.colab.output.renderOutput(dataTable, element);\n",
              "          const docLink = document.createElement('div');\n",
              "          docLink.innerHTML = docLinkHtml;\n",
              "          element.appendChild(docLink);\n",
              "        }\n",
              "      </script>\n",
              "    </div>\n",
              "  </div>\n",
              "  "
            ]
          },
          "metadata": {},
          "execution_count": 45
        }
      ]
    },
    {
      "cell_type": "code",
      "source": [
        "# Add reviews to dataframe\n",
        "for film in films:\n",
        "  film_descr = {}\n",
        "  film_descr['film_name'] = film.name\n",
        "  film_descr['film_id'] = int(film.id)\n",
        "  for review in film.rewiews:\n",
        "    film_descr['film_review'] = review['reviewDescription']\n",
        "    film_descr['pos/neg'] = review['reviewType']\n",
        "    film_descr['user_likes'] = int(review['userPositiveRating'])\n",
        "    film_descr['user_dislikes'] = int(review['userNegativeRating'])\n",
        "    reviews_for_csv = reviews_for_csv.append(film_descr, ignore_index = True)\n",
        "\n",
        "reviews_for_csv.head()"
      ],
      "metadata": {
        "colab": {
          "base_uri": "https://localhost:8080/",
          "height": 206
        },
        "id": "W0dAme0tIGBh",
        "outputId": "6ad4e250-c79b-45b0-bfdf-953de18f1c9d"
      },
      "id": "W0dAme0tIGBh",
      "execution_count": 46,
      "outputs": [
        {
          "output_type": "execute_result",
          "data": {
            "text/plain": [
              "  film_id           film_name  \\\n",
              "0    1794  50 первых поцелуев   \n",
              "1    1794  50 первых поцелуев   \n",
              "2    1794  50 первых поцелуев   \n",
              "3    1794  50 первых поцелуев   \n",
              "4    1794  50 первых поцелуев   \n",
              "\n",
              "                                         film_review   pos/neg user_likes  \\\n",
              "0  Мелодрама? Хорошая мелодрама? Хорошая мелодрам...  POSITIVE          1   \n",
              "1  Генри влюбляется в девушку из кафе Люси. Люси ...  POSITIVE          1   \n",
              "2  Как волнительно первое свидание и сладок первы...  POSITIVE          1   \n",
              "3  Очень милый фильм, наполненный морем, солнцем ...  POSITIVE          0   \n",
              "4  Добротная лирическо-любовная комедия с элемент...  POSITIVE          7   \n",
              "\n",
              "  user_dislikes  \n",
              "0             1  \n",
              "1             0  \n",
              "2             0  \n",
              "3             0  \n",
              "4             0  "
            ],
            "text/html": [
              "\n",
              "  <div id=\"df-13e2a57a-1ba3-4165-a65d-9bb90e83d2da\">\n",
              "    <div class=\"colab-df-container\">\n",
              "      <div>\n",
              "<style scoped>\n",
              "    .dataframe tbody tr th:only-of-type {\n",
              "        vertical-align: middle;\n",
              "    }\n",
              "\n",
              "    .dataframe tbody tr th {\n",
              "        vertical-align: top;\n",
              "    }\n",
              "\n",
              "    .dataframe thead th {\n",
              "        text-align: right;\n",
              "    }\n",
              "</style>\n",
              "<table border=\"1\" class=\"dataframe\">\n",
              "  <thead>\n",
              "    <tr style=\"text-align: right;\">\n",
              "      <th></th>\n",
              "      <th>film_id</th>\n",
              "      <th>film_name</th>\n",
              "      <th>film_review</th>\n",
              "      <th>pos/neg</th>\n",
              "      <th>user_likes</th>\n",
              "      <th>user_dislikes</th>\n",
              "    </tr>\n",
              "  </thead>\n",
              "  <tbody>\n",
              "    <tr>\n",
              "      <th>0</th>\n",
              "      <td>1794</td>\n",
              "      <td>50 первых поцелуев</td>\n",
              "      <td>Мелодрама? Хорошая мелодрама? Хорошая мелодрам...</td>\n",
              "      <td>POSITIVE</td>\n",
              "      <td>1</td>\n",
              "      <td>1</td>\n",
              "    </tr>\n",
              "    <tr>\n",
              "      <th>1</th>\n",
              "      <td>1794</td>\n",
              "      <td>50 первых поцелуев</td>\n",
              "      <td>Генри влюбляется в девушку из кафе Люси. Люси ...</td>\n",
              "      <td>POSITIVE</td>\n",
              "      <td>1</td>\n",
              "      <td>0</td>\n",
              "    </tr>\n",
              "    <tr>\n",
              "      <th>2</th>\n",
              "      <td>1794</td>\n",
              "      <td>50 первых поцелуев</td>\n",
              "      <td>Как волнительно первое свидание и сладок первы...</td>\n",
              "      <td>POSITIVE</td>\n",
              "      <td>1</td>\n",
              "      <td>0</td>\n",
              "    </tr>\n",
              "    <tr>\n",
              "      <th>3</th>\n",
              "      <td>1794</td>\n",
              "      <td>50 первых поцелуев</td>\n",
              "      <td>Очень милый фильм, наполненный морем, солнцем ...</td>\n",
              "      <td>POSITIVE</td>\n",
              "      <td>0</td>\n",
              "      <td>0</td>\n",
              "    </tr>\n",
              "    <tr>\n",
              "      <th>4</th>\n",
              "      <td>1794</td>\n",
              "      <td>50 первых поцелуев</td>\n",
              "      <td>Добротная лирическо-любовная комедия с элемент...</td>\n",
              "      <td>POSITIVE</td>\n",
              "      <td>7</td>\n",
              "      <td>0</td>\n",
              "    </tr>\n",
              "  </tbody>\n",
              "</table>\n",
              "</div>\n",
              "      <button class=\"colab-df-convert\" onclick=\"convertToInteractive('df-13e2a57a-1ba3-4165-a65d-9bb90e83d2da')\"\n",
              "              title=\"Convert this dataframe to an interactive table.\"\n",
              "              style=\"display:none;\">\n",
              "        \n",
              "  <svg xmlns=\"http://www.w3.org/2000/svg\" height=\"24px\"viewBox=\"0 0 24 24\"\n",
              "       width=\"24px\">\n",
              "    <path d=\"M0 0h24v24H0V0z\" fill=\"none\"/>\n",
              "    <path d=\"M18.56 5.44l.94 2.06.94-2.06 2.06-.94-2.06-.94-.94-2.06-.94 2.06-2.06.94zm-11 1L8.5 8.5l.94-2.06 2.06-.94-2.06-.94L8.5 2.5l-.94 2.06-2.06.94zm10 10l.94 2.06.94-2.06 2.06-.94-2.06-.94-.94-2.06-.94 2.06-2.06.94z\"/><path d=\"M17.41 7.96l-1.37-1.37c-.4-.4-.92-.59-1.43-.59-.52 0-1.04.2-1.43.59L10.3 9.45l-7.72 7.72c-.78.78-.78 2.05 0 2.83L4 21.41c.39.39.9.59 1.41.59.51 0 1.02-.2 1.41-.59l7.78-7.78 2.81-2.81c.8-.78.8-2.07 0-2.86zM5.41 20L4 18.59l7.72-7.72 1.47 1.35L5.41 20z\"/>\n",
              "  </svg>\n",
              "      </button>\n",
              "      \n",
              "  <style>\n",
              "    .colab-df-container {\n",
              "      display:flex;\n",
              "      flex-wrap:wrap;\n",
              "      gap: 12px;\n",
              "    }\n",
              "\n",
              "    .colab-df-convert {\n",
              "      background-color: #E8F0FE;\n",
              "      border: none;\n",
              "      border-radius: 50%;\n",
              "      cursor: pointer;\n",
              "      display: none;\n",
              "      fill: #1967D2;\n",
              "      height: 32px;\n",
              "      padding: 0 0 0 0;\n",
              "      width: 32px;\n",
              "    }\n",
              "\n",
              "    .colab-df-convert:hover {\n",
              "      background-color: #E2EBFA;\n",
              "      box-shadow: 0px 1px 2px rgba(60, 64, 67, 0.3), 0px 1px 3px 1px rgba(60, 64, 67, 0.15);\n",
              "      fill: #174EA6;\n",
              "    }\n",
              "\n",
              "    [theme=dark] .colab-df-convert {\n",
              "      background-color: #3B4455;\n",
              "      fill: #D2E3FC;\n",
              "    }\n",
              "\n",
              "    [theme=dark] .colab-df-convert:hover {\n",
              "      background-color: #434B5C;\n",
              "      box-shadow: 0px 1px 3px 1px rgba(0, 0, 0, 0.15);\n",
              "      filter: drop-shadow(0px 1px 2px rgba(0, 0, 0, 0.3));\n",
              "      fill: #FFFFFF;\n",
              "    }\n",
              "  </style>\n",
              "\n",
              "      <script>\n",
              "        const buttonEl =\n",
              "          document.querySelector('#df-13e2a57a-1ba3-4165-a65d-9bb90e83d2da button.colab-df-convert');\n",
              "        buttonEl.style.display =\n",
              "          google.colab.kernel.accessAllowed ? 'block' : 'none';\n",
              "\n",
              "        async function convertToInteractive(key) {\n",
              "          const element = document.querySelector('#df-13e2a57a-1ba3-4165-a65d-9bb90e83d2da');\n",
              "          const dataTable =\n",
              "            await google.colab.kernel.invokeFunction('convertToInteractive',\n",
              "                                                     [key], {});\n",
              "          if (!dataTable) return;\n",
              "\n",
              "          const docLinkHtml = 'Like what you see? Visit the ' +\n",
              "            '<a target=\"_blank\" href=https://colab.research.google.com/notebooks/data_table.ipynb>data table notebook</a>'\n",
              "            + ' to learn more about interactive tables.';\n",
              "          element.innerHTML = '';\n",
              "          dataTable['output_type'] = 'display_data';\n",
              "          await google.colab.output.renderOutput(dataTable, element);\n",
              "          const docLink = document.createElement('div');\n",
              "          docLink.innerHTML = docLinkHtml;\n",
              "          element.appendChild(docLink);\n",
              "        }\n",
              "      </script>\n",
              "    </div>\n",
              "  </div>\n",
              "  "
            ]
          },
          "metadata": {},
          "execution_count": 46
        }
      ]
    },
    {
      "cell_type": "code",
      "source": [
        "# Save DataFrame with reviews to .csv\n",
        "reviews_for_csv.to_csv('films_reviews.csv')\n",
        "reviews_for_csv.shape"
      ],
      "metadata": {
        "colab": {
          "base_uri": "https://localhost:8080/"
        },
        "id": "am5YTVCcS8u2",
        "outputId": "bf5f56ce-8e0c-4b93-b005-bd13db57faa5"
      },
      "id": "am5YTVCcS8u2",
      "execution_count": null,
      "outputs": [
        {
          "output_type": "execute_result",
          "data": {
            "text/plain": [
              "(6899, 6)"
            ]
          },
          "metadata": {},
          "execution_count": 98
        }
      ]
    },
    {
      "cell_type": "code",
      "source": [
        "# Copy .csv file \n",
        "%cp -av '/content/films_reviews.csv' '/content/drive/MyDrive/Учеба/2 сем/NLP/HWs/HW3'"
      ],
      "metadata": {
        "colab": {
          "base_uri": "https://localhost:8080/"
        },
        "id": "pVgrS9MjUIL6",
        "outputId": "cca508e2-adf2-475f-fb5a-f810e6d3bed5"
      },
      "id": "pVgrS9MjUIL6",
      "execution_count": null,
      "outputs": [
        {
          "output_type": "stream",
          "name": "stdout",
          "text": [
            "'/content/films_reviews.csv' -> '/content/drive/MyDrive/Учеба/2 сем/NLP/HWs/HW3/films_reviews.csv'\n"
          ]
        }
      ]
    },
    {
      "cell_type": "code",
      "source": [
        "df_test = pd.DataFrame(columns = ['num_uniq'])\n",
        "df_test['num_uniq'] = reviews_for_csv['film_id'].value_counts()"
      ],
      "metadata": {
        "colab": {
          "base_uri": "https://localhost:8080/",
          "height": 206
        },
        "id": "e6ypooazZHRe",
        "outputId": "1c16123f-ba91-4642-a7aa-a8ee4fd60f71"
      },
      "id": "e6ypooazZHRe",
      "execution_count": null,
      "outputs": [
        {
          "output_type": "execute_result",
          "data": {
            "text/plain": [
              "     num_uniq\n",
              "335       602\n",
              "448       500\n",
              "435       469\n",
              "325       402\n",
              "382       368"
            ],
            "text/html": [
              "\n",
              "  <div id=\"df-8e5cc4a1-7765-4f96-ba4d-38834963b4e5\">\n",
              "    <div class=\"colab-df-container\">\n",
              "      <div>\n",
              "<style scoped>\n",
              "    .dataframe tbody tr th:only-of-type {\n",
              "        vertical-align: middle;\n",
              "    }\n",
              "\n",
              "    .dataframe tbody tr th {\n",
              "        vertical-align: top;\n",
              "    }\n",
              "\n",
              "    .dataframe thead th {\n",
              "        text-align: right;\n",
              "    }\n",
              "</style>\n",
              "<table border=\"1\" class=\"dataframe\">\n",
              "  <thead>\n",
              "    <tr style=\"text-align: right;\">\n",
              "      <th></th>\n",
              "      <th>num_uniq</th>\n",
              "    </tr>\n",
              "  </thead>\n",
              "  <tbody>\n",
              "    <tr>\n",
              "      <th>335</th>\n",
              "      <td>602</td>\n",
              "    </tr>\n",
              "    <tr>\n",
              "      <th>448</th>\n",
              "      <td>500</td>\n",
              "    </tr>\n",
              "    <tr>\n",
              "      <th>435</th>\n",
              "      <td>469</td>\n",
              "    </tr>\n",
              "    <tr>\n",
              "      <th>325</th>\n",
              "      <td>402</td>\n",
              "    </tr>\n",
              "    <tr>\n",
              "      <th>382</th>\n",
              "      <td>368</td>\n",
              "    </tr>\n",
              "  </tbody>\n",
              "</table>\n",
              "</div>\n",
              "      <button class=\"colab-df-convert\" onclick=\"convertToInteractive('df-8e5cc4a1-7765-4f96-ba4d-38834963b4e5')\"\n",
              "              title=\"Convert this dataframe to an interactive table.\"\n",
              "              style=\"display:none;\">\n",
              "        \n",
              "  <svg xmlns=\"http://www.w3.org/2000/svg\" height=\"24px\"viewBox=\"0 0 24 24\"\n",
              "       width=\"24px\">\n",
              "    <path d=\"M0 0h24v24H0V0z\" fill=\"none\"/>\n",
              "    <path d=\"M18.56 5.44l.94 2.06.94-2.06 2.06-.94-2.06-.94-.94-2.06-.94 2.06-2.06.94zm-11 1L8.5 8.5l.94-2.06 2.06-.94-2.06-.94L8.5 2.5l-.94 2.06-2.06.94zm10 10l.94 2.06.94-2.06 2.06-.94-2.06-.94-.94-2.06-.94 2.06-2.06.94z\"/><path d=\"M17.41 7.96l-1.37-1.37c-.4-.4-.92-.59-1.43-.59-.52 0-1.04.2-1.43.59L10.3 9.45l-7.72 7.72c-.78.78-.78 2.05 0 2.83L4 21.41c.39.39.9.59 1.41.59.51 0 1.02-.2 1.41-.59l7.78-7.78 2.81-2.81c.8-.78.8-2.07 0-2.86zM5.41 20L4 18.59l7.72-7.72 1.47 1.35L5.41 20z\"/>\n",
              "  </svg>\n",
              "      </button>\n",
              "      \n",
              "  <style>\n",
              "    .colab-df-container {\n",
              "      display:flex;\n",
              "      flex-wrap:wrap;\n",
              "      gap: 12px;\n",
              "    }\n",
              "\n",
              "    .colab-df-convert {\n",
              "      background-color: #E8F0FE;\n",
              "      border: none;\n",
              "      border-radius: 50%;\n",
              "      cursor: pointer;\n",
              "      display: none;\n",
              "      fill: #1967D2;\n",
              "      height: 32px;\n",
              "      padding: 0 0 0 0;\n",
              "      width: 32px;\n",
              "    }\n",
              "\n",
              "    .colab-df-convert:hover {\n",
              "      background-color: #E2EBFA;\n",
              "      box-shadow: 0px 1px 2px rgba(60, 64, 67, 0.3), 0px 1px 3px 1px rgba(60, 64, 67, 0.15);\n",
              "      fill: #174EA6;\n",
              "    }\n",
              "\n",
              "    [theme=dark] .colab-df-convert {\n",
              "      background-color: #3B4455;\n",
              "      fill: #D2E3FC;\n",
              "    }\n",
              "\n",
              "    [theme=dark] .colab-df-convert:hover {\n",
              "      background-color: #434B5C;\n",
              "      box-shadow: 0px 1px 3px 1px rgba(0, 0, 0, 0.15);\n",
              "      filter: drop-shadow(0px 1px 2px rgba(0, 0, 0, 0.3));\n",
              "      fill: #FFFFFF;\n",
              "    }\n",
              "  </style>\n",
              "\n",
              "      <script>\n",
              "        const buttonEl =\n",
              "          document.querySelector('#df-8e5cc4a1-7765-4f96-ba4d-38834963b4e5 button.colab-df-convert');\n",
              "        buttonEl.style.display =\n",
              "          google.colab.kernel.accessAllowed ? 'block' : 'none';\n",
              "\n",
              "        async function convertToInteractive(key) {\n",
              "          const element = document.querySelector('#df-8e5cc4a1-7765-4f96-ba4d-38834963b4e5');\n",
              "          const dataTable =\n",
              "            await google.colab.kernel.invokeFunction('convertToInteractive',\n",
              "                                                     [key], {});\n",
              "          if (!dataTable) return;\n",
              "\n",
              "          const docLinkHtml = 'Like what you see? Visit the ' +\n",
              "            '<a target=\"_blank\" href=https://colab.research.google.com/notebooks/data_table.ipynb>data table notebook</a>'\n",
              "            + ' to learn more about interactive tables.';\n",
              "          element.innerHTML = '';\n",
              "          dataTable['output_type'] = 'display_data';\n",
              "          await google.colab.output.renderOutput(dataTable, element);\n",
              "          const docLink = document.createElement('div');\n",
              "          docLink.innerHTML = docLinkHtml;\n",
              "          element.appendChild(docLink);\n",
              "        }\n",
              "      </script>\n",
              "    </div>\n",
              "  </div>\n",
              "  "
            ]
          },
          "metadata": {},
          "execution_count": 111
        }
      ]
    },
    {
      "cell_type": "code",
      "source": [
        "df_test[df_test['num_uniq'] > 10].shape"
      ],
      "metadata": {
        "colab": {
          "base_uri": "https://localhost:8080/"
        },
        "id": "kxb-TIa9Z4sk",
        "outputId": "96aa4586-c2d0-4cda-c581-37b195b6fa4d"
      },
      "id": "kxb-TIa9Z4sk",
      "execution_count": null,
      "outputs": [
        {
          "output_type": "execute_result",
          "data": {
            "text/plain": [
              "(80, 1)"
            ]
          },
          "metadata": {},
          "execution_count": 114
        }
      ]
    },
    {
      "cell_type": "code",
      "source": [
        "# соотношение Good / Bad > 0.9\n",
        "# df_test[df_test['user_likes'] / df_test['user_dislikes'] > 0.9]\n",
        "\n",
        "reviews_for_csv['likes_ratio'] = 0\n",
        "\n",
        "def find_relevant(x):\n",
        "  print(x)\n",
        "  if x['user_dislikes'] != 0: \n",
        "    x['likes_ratio'] = x['user_likes'] / x['user_dislikes']\n",
        "  return x\n",
        "\n",
        "test = reviews_for_csv.apply(lambda x: find_relevant(x))\n",
        "test.head()"
      ],
      "metadata": {
        "colab": {
          "base_uri": "https://localhost:8080/",
          "height": 572
        },
        "id": "kpEoNCtMat0g",
        "outputId": "547b126c-9f48-4860-e237-d83d14a8121f"
      },
      "id": "kpEoNCtMat0g",
      "execution_count": null,
      "outputs": [
        {
          "output_type": "stream",
          "name": "stdout",
          "text": [
            "0        306\n",
            "1        306\n",
            "2        306\n",
            "3        306\n",
            "4        306\n",
            "        ... \n",
            "6894    1786\n",
            "6895    1786\n",
            "6896    1789\n",
            "6897    1789\n",
            "6898    1789\n",
            "Name: film_id, Length: 6899, dtype: object\n"
          ]
        },
        {
          "output_type": "error",
          "ename": "KeyError",
          "evalue": "ignored",
          "traceback": [
            "\u001b[0;31m---------------------------------------------------------------------------\u001b[0m",
            "\u001b[0;31mKeyError\u001b[0m                                  Traceback (most recent call last)",
            "\u001b[0;32m<ipython-input-118-4376236fbd81>\u001b[0m in \u001b[0;36m<module>\u001b[0;34m()\u001b[0m\n\u001b[1;32m     10\u001b[0m   \u001b[0;32mreturn\u001b[0m \u001b[0mx\u001b[0m\u001b[0;34m\u001b[0m\u001b[0;34m\u001b[0m\u001b[0m\n\u001b[1;32m     11\u001b[0m \u001b[0;34m\u001b[0m\u001b[0m\n\u001b[0;32m---> 12\u001b[0;31m \u001b[0mtest\u001b[0m \u001b[0;34m=\u001b[0m \u001b[0mreviews_for_csv\u001b[0m\u001b[0;34m.\u001b[0m\u001b[0mapply\u001b[0m\u001b[0;34m(\u001b[0m\u001b[0;32mlambda\u001b[0m \u001b[0mx\u001b[0m\u001b[0;34m:\u001b[0m \u001b[0mfind_relevant\u001b[0m\u001b[0;34m(\u001b[0m\u001b[0mx\u001b[0m\u001b[0;34m)\u001b[0m\u001b[0;34m)\u001b[0m\u001b[0;34m\u001b[0m\u001b[0;34m\u001b[0m\u001b[0m\n\u001b[0m\u001b[1;32m     13\u001b[0m \u001b[0mtest\u001b[0m\u001b[0;34m.\u001b[0m\u001b[0mhead\u001b[0m\u001b[0;34m(\u001b[0m\u001b[0;34m)\u001b[0m\u001b[0;34m\u001b[0m\u001b[0;34m\u001b[0m\u001b[0m\n",
            "\u001b[0;32m/usr/local/lib/python3.7/dist-packages/pandas/core/frame.py\u001b[0m in \u001b[0;36mapply\u001b[0;34m(self, func, axis, raw, result_type, args, **kwargs)\u001b[0m\n\u001b[1;32m   8738\u001b[0m             \u001b[0mkwargs\u001b[0m\u001b[0;34m=\u001b[0m\u001b[0mkwargs\u001b[0m\u001b[0;34m,\u001b[0m\u001b[0;34m\u001b[0m\u001b[0;34m\u001b[0m\u001b[0m\n\u001b[1;32m   8739\u001b[0m         )\n\u001b[0;32m-> 8740\u001b[0;31m         \u001b[0;32mreturn\u001b[0m \u001b[0mop\u001b[0m\u001b[0;34m.\u001b[0m\u001b[0mapply\u001b[0m\u001b[0;34m(\u001b[0m\u001b[0;34m)\u001b[0m\u001b[0;34m\u001b[0m\u001b[0;34m\u001b[0m\u001b[0m\n\u001b[0m\u001b[1;32m   8741\u001b[0m \u001b[0;34m\u001b[0m\u001b[0m\n\u001b[1;32m   8742\u001b[0m     def applymap(\n",
            "\u001b[0;32m/usr/local/lib/python3.7/dist-packages/pandas/core/apply.py\u001b[0m in \u001b[0;36mapply\u001b[0;34m(self)\u001b[0m\n\u001b[1;32m    686\u001b[0m             \u001b[0;32mreturn\u001b[0m \u001b[0mself\u001b[0m\u001b[0;34m.\u001b[0m\u001b[0mapply_raw\u001b[0m\u001b[0;34m(\u001b[0m\u001b[0;34m)\u001b[0m\u001b[0;34m\u001b[0m\u001b[0;34m\u001b[0m\u001b[0m\n\u001b[1;32m    687\u001b[0m \u001b[0;34m\u001b[0m\u001b[0m\n\u001b[0;32m--> 688\u001b[0;31m         \u001b[0;32mreturn\u001b[0m \u001b[0mself\u001b[0m\u001b[0;34m.\u001b[0m\u001b[0mapply_standard\u001b[0m\u001b[0;34m(\u001b[0m\u001b[0;34m)\u001b[0m\u001b[0;34m\u001b[0m\u001b[0;34m\u001b[0m\u001b[0m\n\u001b[0m\u001b[1;32m    689\u001b[0m \u001b[0;34m\u001b[0m\u001b[0m\n\u001b[1;32m    690\u001b[0m     \u001b[0;32mdef\u001b[0m \u001b[0magg\u001b[0m\u001b[0;34m(\u001b[0m\u001b[0mself\u001b[0m\u001b[0;34m)\u001b[0m\u001b[0;34m:\u001b[0m\u001b[0;34m\u001b[0m\u001b[0;34m\u001b[0m\u001b[0m\n",
            "\u001b[0;32m/usr/local/lib/python3.7/dist-packages/pandas/core/apply.py\u001b[0m in \u001b[0;36mapply_standard\u001b[0;34m(self)\u001b[0m\n\u001b[1;32m    810\u001b[0m \u001b[0;34m\u001b[0m\u001b[0m\n\u001b[1;32m    811\u001b[0m     \u001b[0;32mdef\u001b[0m \u001b[0mapply_standard\u001b[0m\u001b[0;34m(\u001b[0m\u001b[0mself\u001b[0m\u001b[0;34m)\u001b[0m\u001b[0;34m:\u001b[0m\u001b[0;34m\u001b[0m\u001b[0;34m\u001b[0m\u001b[0m\n\u001b[0;32m--> 812\u001b[0;31m         \u001b[0mresults\u001b[0m\u001b[0;34m,\u001b[0m \u001b[0mres_index\u001b[0m \u001b[0;34m=\u001b[0m \u001b[0mself\u001b[0m\u001b[0;34m.\u001b[0m\u001b[0mapply_series_generator\u001b[0m\u001b[0;34m(\u001b[0m\u001b[0;34m)\u001b[0m\u001b[0;34m\u001b[0m\u001b[0;34m\u001b[0m\u001b[0m\n\u001b[0m\u001b[1;32m    813\u001b[0m \u001b[0;34m\u001b[0m\u001b[0m\n\u001b[1;32m    814\u001b[0m         \u001b[0;31m# wrap results\u001b[0m\u001b[0;34m\u001b[0m\u001b[0;34m\u001b[0m\u001b[0;34m\u001b[0m\u001b[0m\n",
            "\u001b[0;32m/usr/local/lib/python3.7/dist-packages/pandas/core/apply.py\u001b[0m in \u001b[0;36mapply_series_generator\u001b[0;34m(self)\u001b[0m\n\u001b[1;32m    826\u001b[0m             \u001b[0;32mfor\u001b[0m \u001b[0mi\u001b[0m\u001b[0;34m,\u001b[0m \u001b[0mv\u001b[0m \u001b[0;32min\u001b[0m \u001b[0menumerate\u001b[0m\u001b[0;34m(\u001b[0m\u001b[0mseries_gen\u001b[0m\u001b[0;34m)\u001b[0m\u001b[0;34m:\u001b[0m\u001b[0;34m\u001b[0m\u001b[0;34m\u001b[0m\u001b[0m\n\u001b[1;32m    827\u001b[0m                 \u001b[0;31m# ignore SettingWithCopy here in case the user mutates\u001b[0m\u001b[0;34m\u001b[0m\u001b[0;34m\u001b[0m\u001b[0;34m\u001b[0m\u001b[0m\n\u001b[0;32m--> 828\u001b[0;31m                 \u001b[0mresults\u001b[0m\u001b[0;34m[\u001b[0m\u001b[0mi\u001b[0m\u001b[0;34m]\u001b[0m \u001b[0;34m=\u001b[0m \u001b[0mself\u001b[0m\u001b[0;34m.\u001b[0m\u001b[0mf\u001b[0m\u001b[0;34m(\u001b[0m\u001b[0mv\u001b[0m\u001b[0;34m)\u001b[0m\u001b[0;34m\u001b[0m\u001b[0;34m\u001b[0m\u001b[0m\n\u001b[0m\u001b[1;32m    829\u001b[0m                 \u001b[0;32mif\u001b[0m \u001b[0misinstance\u001b[0m\u001b[0;34m(\u001b[0m\u001b[0mresults\u001b[0m\u001b[0;34m[\u001b[0m\u001b[0mi\u001b[0m\u001b[0;34m]\u001b[0m\u001b[0;34m,\u001b[0m \u001b[0mABCSeries\u001b[0m\u001b[0;34m)\u001b[0m\u001b[0;34m:\u001b[0m\u001b[0;34m\u001b[0m\u001b[0;34m\u001b[0m\u001b[0m\n\u001b[1;32m    830\u001b[0m                     \u001b[0;31m# If we have a view on v, we need to make a copy because\u001b[0m\u001b[0;34m\u001b[0m\u001b[0;34m\u001b[0m\u001b[0;34m\u001b[0m\u001b[0m\n",
            "\u001b[0;32m<ipython-input-118-4376236fbd81>\u001b[0m in \u001b[0;36m<lambda>\u001b[0;34m(x)\u001b[0m\n\u001b[1;32m     10\u001b[0m   \u001b[0;32mreturn\u001b[0m \u001b[0mx\u001b[0m\u001b[0;34m\u001b[0m\u001b[0;34m\u001b[0m\u001b[0m\n\u001b[1;32m     11\u001b[0m \u001b[0;34m\u001b[0m\u001b[0m\n\u001b[0;32m---> 12\u001b[0;31m \u001b[0mtest\u001b[0m \u001b[0;34m=\u001b[0m \u001b[0mreviews_for_csv\u001b[0m\u001b[0;34m.\u001b[0m\u001b[0mapply\u001b[0m\u001b[0;34m(\u001b[0m\u001b[0;32mlambda\u001b[0m \u001b[0mx\u001b[0m\u001b[0;34m:\u001b[0m \u001b[0mfind_relevant\u001b[0m\u001b[0;34m(\u001b[0m\u001b[0mx\u001b[0m\u001b[0;34m)\u001b[0m\u001b[0;34m)\u001b[0m\u001b[0;34m\u001b[0m\u001b[0;34m\u001b[0m\u001b[0m\n\u001b[0m\u001b[1;32m     13\u001b[0m \u001b[0mtest\u001b[0m\u001b[0;34m.\u001b[0m\u001b[0mhead\u001b[0m\u001b[0;34m(\u001b[0m\u001b[0;34m)\u001b[0m\u001b[0;34m\u001b[0m\u001b[0;34m\u001b[0m\u001b[0m\n",
            "\u001b[0;32m<ipython-input-118-4376236fbd81>\u001b[0m in \u001b[0;36mfind_relevant\u001b[0;34m(x)\u001b[0m\n\u001b[1;32m      6\u001b[0m \u001b[0;32mdef\u001b[0m \u001b[0mfind_relevant\u001b[0m\u001b[0;34m(\u001b[0m\u001b[0mx\u001b[0m\u001b[0;34m)\u001b[0m\u001b[0;34m:\u001b[0m\u001b[0;34m\u001b[0m\u001b[0;34m\u001b[0m\u001b[0m\n\u001b[1;32m      7\u001b[0m   \u001b[0mprint\u001b[0m\u001b[0;34m(\u001b[0m\u001b[0mx\u001b[0m\u001b[0;34m)\u001b[0m\u001b[0;34m\u001b[0m\u001b[0;34m\u001b[0m\u001b[0m\n\u001b[0;32m----> 8\u001b[0;31m   \u001b[0;32mif\u001b[0m \u001b[0mx\u001b[0m\u001b[0;34m[\u001b[0m\u001b[0;34m'user_dislikes'\u001b[0m\u001b[0;34m]\u001b[0m \u001b[0;34m!=\u001b[0m \u001b[0;36m0\u001b[0m\u001b[0;34m:\u001b[0m\u001b[0;34m\u001b[0m\u001b[0;34m\u001b[0m\u001b[0m\n\u001b[0m\u001b[1;32m      9\u001b[0m     \u001b[0mx\u001b[0m\u001b[0;34m[\u001b[0m\u001b[0;34m'likes_ratio'\u001b[0m\u001b[0;34m]\u001b[0m \u001b[0;34m=\u001b[0m \u001b[0mx\u001b[0m\u001b[0;34m[\u001b[0m\u001b[0;34m'user_likes'\u001b[0m\u001b[0;34m]\u001b[0m \u001b[0;34m/\u001b[0m \u001b[0mx\u001b[0m\u001b[0;34m[\u001b[0m\u001b[0;34m'user_dislikes'\u001b[0m\u001b[0;34m]\u001b[0m\u001b[0;34m\u001b[0m\u001b[0;34m\u001b[0m\u001b[0m\n\u001b[1;32m     10\u001b[0m   \u001b[0;32mreturn\u001b[0m \u001b[0mx\u001b[0m\u001b[0;34m\u001b[0m\u001b[0;34m\u001b[0m\u001b[0m\n",
            "\u001b[0;32m/usr/local/lib/python3.7/dist-packages/pandas/core/series.py\u001b[0m in \u001b[0;36m__getitem__\u001b[0;34m(self, key)\u001b[0m\n\u001b[1;32m    940\u001b[0m \u001b[0;34m\u001b[0m\u001b[0m\n\u001b[1;32m    941\u001b[0m         \u001b[0;32melif\u001b[0m \u001b[0mkey_is_scalar\u001b[0m\u001b[0;34m:\u001b[0m\u001b[0;34m\u001b[0m\u001b[0;34m\u001b[0m\u001b[0m\n\u001b[0;32m--> 942\u001b[0;31m             \u001b[0;32mreturn\u001b[0m \u001b[0mself\u001b[0m\u001b[0;34m.\u001b[0m\u001b[0m_get_value\u001b[0m\u001b[0;34m(\u001b[0m\u001b[0mkey\u001b[0m\u001b[0;34m)\u001b[0m\u001b[0;34m\u001b[0m\u001b[0;34m\u001b[0m\u001b[0m\n\u001b[0m\u001b[1;32m    943\u001b[0m \u001b[0;34m\u001b[0m\u001b[0m\n\u001b[1;32m    944\u001b[0m         \u001b[0;32mif\u001b[0m \u001b[0mis_hashable\u001b[0m\u001b[0;34m(\u001b[0m\u001b[0mkey\u001b[0m\u001b[0;34m)\u001b[0m\u001b[0;34m:\u001b[0m\u001b[0;34m\u001b[0m\u001b[0;34m\u001b[0m\u001b[0m\n",
            "\u001b[0;32m/usr/local/lib/python3.7/dist-packages/pandas/core/series.py\u001b[0m in \u001b[0;36m_get_value\u001b[0;34m(self, label, takeable)\u001b[0m\n\u001b[1;32m   1049\u001b[0m \u001b[0;34m\u001b[0m\u001b[0m\n\u001b[1;32m   1050\u001b[0m         \u001b[0;31m# Similar to Index.get_value, but we do not fall back to positional\u001b[0m\u001b[0;34m\u001b[0m\u001b[0;34m\u001b[0m\u001b[0;34m\u001b[0m\u001b[0m\n\u001b[0;32m-> 1051\u001b[0;31m         \u001b[0mloc\u001b[0m \u001b[0;34m=\u001b[0m \u001b[0mself\u001b[0m\u001b[0;34m.\u001b[0m\u001b[0mindex\u001b[0m\u001b[0;34m.\u001b[0m\u001b[0mget_loc\u001b[0m\u001b[0;34m(\u001b[0m\u001b[0mlabel\u001b[0m\u001b[0;34m)\u001b[0m\u001b[0;34m\u001b[0m\u001b[0;34m\u001b[0m\u001b[0m\n\u001b[0m\u001b[1;32m   1052\u001b[0m         \u001b[0;32mreturn\u001b[0m \u001b[0mself\u001b[0m\u001b[0;34m.\u001b[0m\u001b[0mindex\u001b[0m\u001b[0;34m.\u001b[0m\u001b[0m_get_values_for_loc\u001b[0m\u001b[0;34m(\u001b[0m\u001b[0mself\u001b[0m\u001b[0;34m,\u001b[0m \u001b[0mloc\u001b[0m\u001b[0;34m,\u001b[0m \u001b[0mlabel\u001b[0m\u001b[0;34m)\u001b[0m\u001b[0;34m\u001b[0m\u001b[0;34m\u001b[0m\u001b[0m\n\u001b[1;32m   1053\u001b[0m \u001b[0;34m\u001b[0m\u001b[0m\n",
            "\u001b[0;32m/usr/local/lib/python3.7/dist-packages/pandas/core/indexes/range.py\u001b[0m in \u001b[0;36mget_loc\u001b[0;34m(self, key, method, tolerance)\u001b[0m\n\u001b[1;32m    386\u001b[0m                 \u001b[0;32mexcept\u001b[0m \u001b[0mValueError\u001b[0m \u001b[0;32mas\u001b[0m \u001b[0merr\u001b[0m\u001b[0;34m:\u001b[0m\u001b[0;34m\u001b[0m\u001b[0;34m\u001b[0m\u001b[0m\n\u001b[1;32m    387\u001b[0m                     \u001b[0;32mraise\u001b[0m \u001b[0mKeyError\u001b[0m\u001b[0;34m(\u001b[0m\u001b[0mkey\u001b[0m\u001b[0;34m)\u001b[0m \u001b[0;32mfrom\u001b[0m \u001b[0merr\u001b[0m\u001b[0;34m\u001b[0m\u001b[0;34m\u001b[0m\u001b[0m\n\u001b[0;32m--> 388\u001b[0;31m             \u001b[0;32mraise\u001b[0m \u001b[0mKeyError\u001b[0m\u001b[0;34m(\u001b[0m\u001b[0mkey\u001b[0m\u001b[0;34m)\u001b[0m\u001b[0;34m\u001b[0m\u001b[0;34m\u001b[0m\u001b[0m\n\u001b[0m\u001b[1;32m    389\u001b[0m         \u001b[0;32mreturn\u001b[0m \u001b[0msuper\u001b[0m\u001b[0;34m(\u001b[0m\u001b[0;34m)\u001b[0m\u001b[0;34m.\u001b[0m\u001b[0mget_loc\u001b[0m\u001b[0;34m(\u001b[0m\u001b[0mkey\u001b[0m\u001b[0;34m,\u001b[0m \u001b[0mmethod\u001b[0m\u001b[0;34m=\u001b[0m\u001b[0mmethod\u001b[0m\u001b[0;34m,\u001b[0m \u001b[0mtolerance\u001b[0m\u001b[0;34m=\u001b[0m\u001b[0mtolerance\u001b[0m\u001b[0;34m)\u001b[0m\u001b[0;34m\u001b[0m\u001b[0;34m\u001b[0m\u001b[0m\n\u001b[1;32m    390\u001b[0m \u001b[0;34m\u001b[0m\u001b[0m\n",
            "\u001b[0;31mKeyError\u001b[0m: 'user_dislikes'"
          ]
        }
      ]
    },
    {
      "cell_type": "code",
      "source": [
        "reviews_for_csv.head()"
      ],
      "metadata": {
        "id": "ZqJzUtfJcout",
        "outputId": "5406b2d2-7217-479c-a572-a48066f04f4c",
        "colab": {
          "base_uri": "https://localhost:8080/",
          "height": 206
        }
      },
      "id": "ZqJzUtfJcout",
      "execution_count": null,
      "outputs": [
        {
          "output_type": "execute_result",
          "data": {
            "text/plain": [
              "  film_id film_name                                        film_review  \\\n",
              "0     306    Рекрут  К концу 1970-х годов новозеландский кинематогр...   \n",
              "1     306    Рекрут  Проходясь по фильмографии моего любимого Колин...   \n",
              "2     306    Рекрут  Шпионский триллер Роджера Дональдсона «Рекрут»...   \n",
              "3     306    Рекрут  Фильмы начала 2000-годов всегда привлекали мое...   \n",
              "4     306    Рекрут  К студенту Джеймсу Клейтону обращается агент Ц...   \n",
              "\n",
              "    pos/neg user_likes user_dislikes  likes_ratio  \n",
              "0  POSITIVE          0             0            0  \n",
              "1  NEGATIVE          2             2            0  \n",
              "2  POSITIVE          3             0            0  \n",
              "3  POSITIVE          2             1            0  \n",
              "4  POSITIVE          3             0            0  "
            ],
            "text/html": [
              "\n",
              "  <div id=\"df-287b9c57-2d0d-44e4-a2ef-9f6c4673da40\">\n",
              "    <div class=\"colab-df-container\">\n",
              "      <div>\n",
              "<style scoped>\n",
              "    .dataframe tbody tr th:only-of-type {\n",
              "        vertical-align: middle;\n",
              "    }\n",
              "\n",
              "    .dataframe tbody tr th {\n",
              "        vertical-align: top;\n",
              "    }\n",
              "\n",
              "    .dataframe thead th {\n",
              "        text-align: right;\n",
              "    }\n",
              "</style>\n",
              "<table border=\"1\" class=\"dataframe\">\n",
              "  <thead>\n",
              "    <tr style=\"text-align: right;\">\n",
              "      <th></th>\n",
              "      <th>film_id</th>\n",
              "      <th>film_name</th>\n",
              "      <th>film_review</th>\n",
              "      <th>pos/neg</th>\n",
              "      <th>user_likes</th>\n",
              "      <th>user_dislikes</th>\n",
              "      <th>likes_ratio</th>\n",
              "    </tr>\n",
              "  </thead>\n",
              "  <tbody>\n",
              "    <tr>\n",
              "      <th>0</th>\n",
              "      <td>306</td>\n",
              "      <td>Рекрут</td>\n",
              "      <td>К концу 1970-х годов новозеландский кинематогр...</td>\n",
              "      <td>POSITIVE</td>\n",
              "      <td>0</td>\n",
              "      <td>0</td>\n",
              "      <td>0</td>\n",
              "    </tr>\n",
              "    <tr>\n",
              "      <th>1</th>\n",
              "      <td>306</td>\n",
              "      <td>Рекрут</td>\n",
              "      <td>Проходясь по фильмографии моего любимого Колин...</td>\n",
              "      <td>NEGATIVE</td>\n",
              "      <td>2</td>\n",
              "      <td>2</td>\n",
              "      <td>0</td>\n",
              "    </tr>\n",
              "    <tr>\n",
              "      <th>2</th>\n",
              "      <td>306</td>\n",
              "      <td>Рекрут</td>\n",
              "      <td>Шпионский триллер Роджера Дональдсона «Рекрут»...</td>\n",
              "      <td>POSITIVE</td>\n",
              "      <td>3</td>\n",
              "      <td>0</td>\n",
              "      <td>0</td>\n",
              "    </tr>\n",
              "    <tr>\n",
              "      <th>3</th>\n",
              "      <td>306</td>\n",
              "      <td>Рекрут</td>\n",
              "      <td>Фильмы начала 2000-годов всегда привлекали мое...</td>\n",
              "      <td>POSITIVE</td>\n",
              "      <td>2</td>\n",
              "      <td>1</td>\n",
              "      <td>0</td>\n",
              "    </tr>\n",
              "    <tr>\n",
              "      <th>4</th>\n",
              "      <td>306</td>\n",
              "      <td>Рекрут</td>\n",
              "      <td>К студенту Джеймсу Клейтону обращается агент Ц...</td>\n",
              "      <td>POSITIVE</td>\n",
              "      <td>3</td>\n",
              "      <td>0</td>\n",
              "      <td>0</td>\n",
              "    </tr>\n",
              "  </tbody>\n",
              "</table>\n",
              "</div>\n",
              "      <button class=\"colab-df-convert\" onclick=\"convertToInteractive('df-287b9c57-2d0d-44e4-a2ef-9f6c4673da40')\"\n",
              "              title=\"Convert this dataframe to an interactive table.\"\n",
              "              style=\"display:none;\">\n",
              "        \n",
              "  <svg xmlns=\"http://www.w3.org/2000/svg\" height=\"24px\"viewBox=\"0 0 24 24\"\n",
              "       width=\"24px\">\n",
              "    <path d=\"M0 0h24v24H0V0z\" fill=\"none\"/>\n",
              "    <path d=\"M18.56 5.44l.94 2.06.94-2.06 2.06-.94-2.06-.94-.94-2.06-.94 2.06-2.06.94zm-11 1L8.5 8.5l.94-2.06 2.06-.94-2.06-.94L8.5 2.5l-.94 2.06-2.06.94zm10 10l.94 2.06.94-2.06 2.06-.94-2.06-.94-.94-2.06-.94 2.06-2.06.94z\"/><path d=\"M17.41 7.96l-1.37-1.37c-.4-.4-.92-.59-1.43-.59-.52 0-1.04.2-1.43.59L10.3 9.45l-7.72 7.72c-.78.78-.78 2.05 0 2.83L4 21.41c.39.39.9.59 1.41.59.51 0 1.02-.2 1.41-.59l7.78-7.78 2.81-2.81c.8-.78.8-2.07 0-2.86zM5.41 20L4 18.59l7.72-7.72 1.47 1.35L5.41 20z\"/>\n",
              "  </svg>\n",
              "      </button>\n",
              "      \n",
              "  <style>\n",
              "    .colab-df-container {\n",
              "      display:flex;\n",
              "      flex-wrap:wrap;\n",
              "      gap: 12px;\n",
              "    }\n",
              "\n",
              "    .colab-df-convert {\n",
              "      background-color: #E8F0FE;\n",
              "      border: none;\n",
              "      border-radius: 50%;\n",
              "      cursor: pointer;\n",
              "      display: none;\n",
              "      fill: #1967D2;\n",
              "      height: 32px;\n",
              "      padding: 0 0 0 0;\n",
              "      width: 32px;\n",
              "    }\n",
              "\n",
              "    .colab-df-convert:hover {\n",
              "      background-color: #E2EBFA;\n",
              "      box-shadow: 0px 1px 2px rgba(60, 64, 67, 0.3), 0px 1px 3px 1px rgba(60, 64, 67, 0.15);\n",
              "      fill: #174EA6;\n",
              "    }\n",
              "\n",
              "    [theme=dark] .colab-df-convert {\n",
              "      background-color: #3B4455;\n",
              "      fill: #D2E3FC;\n",
              "    }\n",
              "\n",
              "    [theme=dark] .colab-df-convert:hover {\n",
              "      background-color: #434B5C;\n",
              "      box-shadow: 0px 1px 3px 1px rgba(0, 0, 0, 0.15);\n",
              "      filter: drop-shadow(0px 1px 2px rgba(0, 0, 0, 0.3));\n",
              "      fill: #FFFFFF;\n",
              "    }\n",
              "  </style>\n",
              "\n",
              "      <script>\n",
              "        const buttonEl =\n",
              "          document.querySelector('#df-287b9c57-2d0d-44e4-a2ef-9f6c4673da40 button.colab-df-convert');\n",
              "        buttonEl.style.display =\n",
              "          google.colab.kernel.accessAllowed ? 'block' : 'none';\n",
              "\n",
              "        async function convertToInteractive(key) {\n",
              "          const element = document.querySelector('#df-287b9c57-2d0d-44e4-a2ef-9f6c4673da40');\n",
              "          const dataTable =\n",
              "            await google.colab.kernel.invokeFunction('convertToInteractive',\n",
              "                                                     [key], {});\n",
              "          if (!dataTable) return;\n",
              "\n",
              "          const docLinkHtml = 'Like what you see? Visit the ' +\n",
              "            '<a target=\"_blank\" href=https://colab.research.google.com/notebooks/data_table.ipynb>data table notebook</a>'\n",
              "            + ' to learn more about interactive tables.';\n",
              "          element.innerHTML = '';\n",
              "          dataTable['output_type'] = 'display_data';\n",
              "          await google.colab.output.renderOutput(dataTable, element);\n",
              "          const docLink = document.createElement('div');\n",
              "          docLink.innerHTML = docLinkHtml;\n",
              "          element.appendChild(docLink);\n",
              "        }\n",
              "      </script>\n",
              "    </div>\n",
              "  </div>\n",
              "  "
            ]
          },
          "metadata": {},
          "execution_count": 119
        }
      ]
    },
    {
      "cell_type": "code",
      "source": [
        ""
      ],
      "metadata": {
        "id": "KL8VBotraPsQ"
      },
      "id": "KL8VBotraPsQ",
      "execution_count": null,
      "outputs": []
    },
    {
      "cell_type": "markdown",
      "source": [
        "# Filter film names:"
      ],
      "metadata": {
        "id": "a0XR626ojXhD"
      },
      "id": "a0XR626ojXhD"
    },
    {
      "cell_type": "code",
      "source": [
        "# найти максимум среди id\n",
        "# собрать новые рецензии в таблицу\n",
        "# объединить с csv файлом\n",
        "\n",
        "# оставить те ревью, у которых больше 1 лайка\n",
        "# поделить лайки на дизлайки и оставить фильмы, у которых соотношение больше 0.8 (с учетом деления на ноль, тогда оставить 1)\n",
        "# оставить фильмы, у которых больше 3 ревью"
      ],
      "metadata": {
        "id": "YODL-Xtbjch2"
      },
      "id": "YODL-Xtbjch2",
      "execution_count": null,
      "outputs": []
    },
    {
      "cell_type": "markdown",
      "source": [
        "### Raw data preprocessing"
      ],
      "metadata": {
        "id": "kbMYbAxRL9VH"
      },
      "id": "kbMYbAxRL9VH"
    },
    {
      "cell_type": "code",
      "source": [
        "old_df = pd.read_csv('/content/drive/MyDrive/Учеба/2 сем/NLP/HWs/HW3/films_reviews.csv', index_col=0)"
      ],
      "metadata": {
        "id": "sHoVqeXHyfkv"
      },
      "id": "sHoVqeXHyfkv",
      "execution_count": null,
      "outputs": []
    },
    {
      "cell_type": "code",
      "source": [
        "df = pd.concat([old_df, reviews_for_csv], ignore_index = True)\n",
        "df.shape"
      ],
      "metadata": {
        "colab": {
          "base_uri": "https://localhost:8080/"
        },
        "id": "qP7lif3ajcot",
        "outputId": "ca4cb16b-5592-4c59-c206-1f4b0b0c37ba"
      },
      "id": "qP7lif3ajcot",
      "execution_count": 65,
      "outputs": [
        {
          "output_type": "execute_result",
          "data": {
            "text/plain": [
              "(10702, 6)"
            ]
          },
          "metadata": {},
          "execution_count": 65
        }
      ]
    },
    {
      "cell_type": "code",
      "source": [
        "a = df.copy()\n",
        "a = a[a['user_likes'] > 3]\n",
        "display(a.shape)\n",
        "display(len(list(set(a['film_id']))))"
      ],
      "metadata": {
        "colab": {
          "base_uri": "https://localhost:8080/",
          "height": 52
        },
        "id": "7GVw9ce1yZRY",
        "outputId": "867e0629-062b-4240-9fe1-6a57c0eb9177"
      },
      "id": "7GVw9ce1yZRY",
      "execution_count": 82,
      "outputs": [
        {
          "output_type": "display_data",
          "data": {
            "text/plain": [
              "(9302, 6)"
            ]
          },
          "metadata": {}
        },
        {
          "output_type": "display_data",
          "data": {
            "text/plain": [
              "357"
            ]
          },
          "metadata": {}
        }
      ]
    },
    {
      "cell_type": "code",
      "source": [
        "b = a.copy()\n",
        "b['like_ratio'] = 0\n",
        "b['user_dislikes'] = b['user_dislikes'].replace(0, -1)\n",
        "b['like_ratio'] = b['user_likes'] / b['user_dislikes']\n",
        "print(b.shape)\n",
        "b = b[b['like_ratio'] > 0.8]\n",
        "# b = b[b['like_ratio'] > 0.8]\n",
        "print(b.shape)\n",
        "b.head(20)"
      ],
      "metadata": {
        "colab": {
          "base_uri": "https://localhost:8080/",
          "height": 711
        },
        "id": "ZQ6iQ0si1fyg",
        "outputId": "947bc0ac-a53b-4af6-a7ba-1618550b0ff9"
      },
      "id": "ZQ6iQ0si1fyg",
      "execution_count": 88,
      "outputs": [
        {
          "output_type": "stream",
          "name": "stdout",
          "text": [
            "(9302, 7)\n",
            "(7418, 7)\n"
          ]
        },
        {
          "output_type": "execute_result",
          "data": {
            "text/plain": [
              "   film_id film_name                                        film_review  \\\n",
              "6      306    Рекрут  С фильмом «Рекрут» (The Recruit, 2003) получае...   \n",
              "9      306    Рекрут  Джеймс Клэйтон — талантливый программист, выну...   \n",
              "14     306    Рекрут  Рекрут представляет собой изощренный и закруче...   \n",
              "15     306    Рекрут  Фильм довольно интересный. Нет, правда. Он, ко...   \n",
              "16     306    Рекрут  Фильм, вышедший в 2002-ом году и собравший неп...   \n",
              "19     306    Рекрут  Всё не то, чем кажется.\\r\\n\\r\\nЭто один из луч...   \n",
              "20     306    Рекрут  Я определённо люблю фильмы с Колином Фарреллом...   \n",
              "21     306    Рекрут  Один из лучших триллеров на тему американских ...   \n",
              "22     306    Рекрут  Что вы знаете о ЦРУ? То, что пишут в газетах и...   \n",
              "25     306    Рекрут  Шпионский триллер должен быть продуманным, неп...   \n",
              "26     306    Рекрут  Роджер Дональдсон, режиссер старой школы и точ...   \n",
              "27     306    Рекрут  Довольно интересный шпионский фильм получился,...   \n",
              "28     306    Рекрут  Шпионский боевик Роджера Дональдсона стоит смо...   \n",
              "29     306    Рекрут  Все уже давно привыкли к тому, что фильмы про ...   \n",
              "30     306    Рекрут  Как утверждал рейхсминистр народного просвещен...   \n",
              "31     306    Рекрут  Так уж вышло, что человека зачастую интересует...   \n",
              "32     306    Рекрут  С момента создания этого фильма, я посмотрел е...   \n",
              "33     306    Рекрут  Фильм, который затягивает с первых минут, и ты...   \n",
              "34     306    Рекрут  Под шпионским боевиком-триллером неискушенный ...   \n",
              "35     306    Рекрут  Старый цээрушный волк Эл Пачино вербует юного ...   \n",
              "\n",
              "     pos/neg user_likes  user_dislikes like_ratio  \n",
              "6    NEUTRAL          4              4        1.0  \n",
              "9   POSITIVE          4              1        4.0  \n",
              "14   NEUTRAL         14              5        2.8  \n",
              "15   NEUTRAL          5              3   1.666667  \n",
              "16  NEGATIVE         16              6   2.666667  \n",
              "19  POSITIVE          9              5        1.8  \n",
              "20  POSITIVE          9              3        3.0  \n",
              "21  POSITIVE         10              4        2.5  \n",
              "22  POSITIVE         10              2        5.0  \n",
              "25  NEGATIVE         70             16      4.375  \n",
              "26   NEUTRAL         17             21   0.809524  \n",
              "27  POSITIVE          9              8      1.125  \n",
              "28  POSITIVE          6              4        1.5  \n",
              "29  POSITIVE          6              4        1.5  \n",
              "30  POSITIVE         28              6   4.666667  \n",
              "31  POSITIVE         12              3        4.0  \n",
              "32  POSITIVE         10              4        2.5  \n",
              "33  POSITIVE          6              3        2.0  \n",
              "34  POSITIVE         18             11   1.636364  \n",
              "35   NEUTRAL         14             11   1.272727  "
            ],
            "text/html": [
              "\n",
              "  <div id=\"df-c1e32a4f-9feb-4bb2-8441-c996f92728b5\">\n",
              "    <div class=\"colab-df-container\">\n",
              "      <div>\n",
              "<style scoped>\n",
              "    .dataframe tbody tr th:only-of-type {\n",
              "        vertical-align: middle;\n",
              "    }\n",
              "\n",
              "    .dataframe tbody tr th {\n",
              "        vertical-align: top;\n",
              "    }\n",
              "\n",
              "    .dataframe thead th {\n",
              "        text-align: right;\n",
              "    }\n",
              "</style>\n",
              "<table border=\"1\" class=\"dataframe\">\n",
              "  <thead>\n",
              "    <tr style=\"text-align: right;\">\n",
              "      <th></th>\n",
              "      <th>film_id</th>\n",
              "      <th>film_name</th>\n",
              "      <th>film_review</th>\n",
              "      <th>pos/neg</th>\n",
              "      <th>user_likes</th>\n",
              "      <th>user_dislikes</th>\n",
              "      <th>like_ratio</th>\n",
              "    </tr>\n",
              "  </thead>\n",
              "  <tbody>\n",
              "    <tr>\n",
              "      <th>6</th>\n",
              "      <td>306</td>\n",
              "      <td>Рекрут</td>\n",
              "      <td>С фильмом «Рекрут» (The Recruit, 2003) получае...</td>\n",
              "      <td>NEUTRAL</td>\n",
              "      <td>4</td>\n",
              "      <td>4</td>\n",
              "      <td>1.0</td>\n",
              "    </tr>\n",
              "    <tr>\n",
              "      <th>9</th>\n",
              "      <td>306</td>\n",
              "      <td>Рекрут</td>\n",
              "      <td>Джеймс Клэйтон — талантливый программист, выну...</td>\n",
              "      <td>POSITIVE</td>\n",
              "      <td>4</td>\n",
              "      <td>1</td>\n",
              "      <td>4.0</td>\n",
              "    </tr>\n",
              "    <tr>\n",
              "      <th>14</th>\n",
              "      <td>306</td>\n",
              "      <td>Рекрут</td>\n",
              "      <td>Рекрут представляет собой изощренный и закруче...</td>\n",
              "      <td>NEUTRAL</td>\n",
              "      <td>14</td>\n",
              "      <td>5</td>\n",
              "      <td>2.8</td>\n",
              "    </tr>\n",
              "    <tr>\n",
              "      <th>15</th>\n",
              "      <td>306</td>\n",
              "      <td>Рекрут</td>\n",
              "      <td>Фильм довольно интересный. Нет, правда. Он, ко...</td>\n",
              "      <td>NEUTRAL</td>\n",
              "      <td>5</td>\n",
              "      <td>3</td>\n",
              "      <td>1.666667</td>\n",
              "    </tr>\n",
              "    <tr>\n",
              "      <th>16</th>\n",
              "      <td>306</td>\n",
              "      <td>Рекрут</td>\n",
              "      <td>Фильм, вышедший в 2002-ом году и собравший неп...</td>\n",
              "      <td>NEGATIVE</td>\n",
              "      <td>16</td>\n",
              "      <td>6</td>\n",
              "      <td>2.666667</td>\n",
              "    </tr>\n",
              "    <tr>\n",
              "      <th>19</th>\n",
              "      <td>306</td>\n",
              "      <td>Рекрут</td>\n",
              "      <td>Всё не то, чем кажется.\\r\\n\\r\\nЭто один из луч...</td>\n",
              "      <td>POSITIVE</td>\n",
              "      <td>9</td>\n",
              "      <td>5</td>\n",
              "      <td>1.8</td>\n",
              "    </tr>\n",
              "    <tr>\n",
              "      <th>20</th>\n",
              "      <td>306</td>\n",
              "      <td>Рекрут</td>\n",
              "      <td>Я определённо люблю фильмы с Колином Фарреллом...</td>\n",
              "      <td>POSITIVE</td>\n",
              "      <td>9</td>\n",
              "      <td>3</td>\n",
              "      <td>3.0</td>\n",
              "    </tr>\n",
              "    <tr>\n",
              "      <th>21</th>\n",
              "      <td>306</td>\n",
              "      <td>Рекрут</td>\n",
              "      <td>Один из лучших триллеров на тему американских ...</td>\n",
              "      <td>POSITIVE</td>\n",
              "      <td>10</td>\n",
              "      <td>4</td>\n",
              "      <td>2.5</td>\n",
              "    </tr>\n",
              "    <tr>\n",
              "      <th>22</th>\n",
              "      <td>306</td>\n",
              "      <td>Рекрут</td>\n",
              "      <td>Что вы знаете о ЦРУ? То, что пишут в газетах и...</td>\n",
              "      <td>POSITIVE</td>\n",
              "      <td>10</td>\n",
              "      <td>2</td>\n",
              "      <td>5.0</td>\n",
              "    </tr>\n",
              "    <tr>\n",
              "      <th>25</th>\n",
              "      <td>306</td>\n",
              "      <td>Рекрут</td>\n",
              "      <td>Шпионский триллер должен быть продуманным, неп...</td>\n",
              "      <td>NEGATIVE</td>\n",
              "      <td>70</td>\n",
              "      <td>16</td>\n",
              "      <td>4.375</td>\n",
              "    </tr>\n",
              "    <tr>\n",
              "      <th>26</th>\n",
              "      <td>306</td>\n",
              "      <td>Рекрут</td>\n",
              "      <td>Роджер Дональдсон, режиссер старой школы и точ...</td>\n",
              "      <td>NEUTRAL</td>\n",
              "      <td>17</td>\n",
              "      <td>21</td>\n",
              "      <td>0.809524</td>\n",
              "    </tr>\n",
              "    <tr>\n",
              "      <th>27</th>\n",
              "      <td>306</td>\n",
              "      <td>Рекрут</td>\n",
              "      <td>Довольно интересный шпионский фильм получился,...</td>\n",
              "      <td>POSITIVE</td>\n",
              "      <td>9</td>\n",
              "      <td>8</td>\n",
              "      <td>1.125</td>\n",
              "    </tr>\n",
              "    <tr>\n",
              "      <th>28</th>\n",
              "      <td>306</td>\n",
              "      <td>Рекрут</td>\n",
              "      <td>Шпионский боевик Роджера Дональдсона стоит смо...</td>\n",
              "      <td>POSITIVE</td>\n",
              "      <td>6</td>\n",
              "      <td>4</td>\n",
              "      <td>1.5</td>\n",
              "    </tr>\n",
              "    <tr>\n",
              "      <th>29</th>\n",
              "      <td>306</td>\n",
              "      <td>Рекрут</td>\n",
              "      <td>Все уже давно привыкли к тому, что фильмы про ...</td>\n",
              "      <td>POSITIVE</td>\n",
              "      <td>6</td>\n",
              "      <td>4</td>\n",
              "      <td>1.5</td>\n",
              "    </tr>\n",
              "    <tr>\n",
              "      <th>30</th>\n",
              "      <td>306</td>\n",
              "      <td>Рекрут</td>\n",
              "      <td>Как утверждал рейхсминистр народного просвещен...</td>\n",
              "      <td>POSITIVE</td>\n",
              "      <td>28</td>\n",
              "      <td>6</td>\n",
              "      <td>4.666667</td>\n",
              "    </tr>\n",
              "    <tr>\n",
              "      <th>31</th>\n",
              "      <td>306</td>\n",
              "      <td>Рекрут</td>\n",
              "      <td>Так уж вышло, что человека зачастую интересует...</td>\n",
              "      <td>POSITIVE</td>\n",
              "      <td>12</td>\n",
              "      <td>3</td>\n",
              "      <td>4.0</td>\n",
              "    </tr>\n",
              "    <tr>\n",
              "      <th>32</th>\n",
              "      <td>306</td>\n",
              "      <td>Рекрут</td>\n",
              "      <td>С момента создания этого фильма, я посмотрел е...</td>\n",
              "      <td>POSITIVE</td>\n",
              "      <td>10</td>\n",
              "      <td>4</td>\n",
              "      <td>2.5</td>\n",
              "    </tr>\n",
              "    <tr>\n",
              "      <th>33</th>\n",
              "      <td>306</td>\n",
              "      <td>Рекрут</td>\n",
              "      <td>Фильм, который затягивает с первых минут, и ты...</td>\n",
              "      <td>POSITIVE</td>\n",
              "      <td>6</td>\n",
              "      <td>3</td>\n",
              "      <td>2.0</td>\n",
              "    </tr>\n",
              "    <tr>\n",
              "      <th>34</th>\n",
              "      <td>306</td>\n",
              "      <td>Рекрут</td>\n",
              "      <td>Под шпионским боевиком-триллером неискушенный ...</td>\n",
              "      <td>POSITIVE</td>\n",
              "      <td>18</td>\n",
              "      <td>11</td>\n",
              "      <td>1.636364</td>\n",
              "    </tr>\n",
              "    <tr>\n",
              "      <th>35</th>\n",
              "      <td>306</td>\n",
              "      <td>Рекрут</td>\n",
              "      <td>Старый цээрушный волк Эл Пачино вербует юного ...</td>\n",
              "      <td>NEUTRAL</td>\n",
              "      <td>14</td>\n",
              "      <td>11</td>\n",
              "      <td>1.272727</td>\n",
              "    </tr>\n",
              "  </tbody>\n",
              "</table>\n",
              "</div>\n",
              "      <button class=\"colab-df-convert\" onclick=\"convertToInteractive('df-c1e32a4f-9feb-4bb2-8441-c996f92728b5')\"\n",
              "              title=\"Convert this dataframe to an interactive table.\"\n",
              "              style=\"display:none;\">\n",
              "        \n",
              "  <svg xmlns=\"http://www.w3.org/2000/svg\" height=\"24px\"viewBox=\"0 0 24 24\"\n",
              "       width=\"24px\">\n",
              "    <path d=\"M0 0h24v24H0V0z\" fill=\"none\"/>\n",
              "    <path d=\"M18.56 5.44l.94 2.06.94-2.06 2.06-.94-2.06-.94-.94-2.06-.94 2.06-2.06.94zm-11 1L8.5 8.5l.94-2.06 2.06-.94-2.06-.94L8.5 2.5l-.94 2.06-2.06.94zm10 10l.94 2.06.94-2.06 2.06-.94-2.06-.94-.94-2.06-.94 2.06-2.06.94z\"/><path d=\"M17.41 7.96l-1.37-1.37c-.4-.4-.92-.59-1.43-.59-.52 0-1.04.2-1.43.59L10.3 9.45l-7.72 7.72c-.78.78-.78 2.05 0 2.83L4 21.41c.39.39.9.59 1.41.59.51 0 1.02-.2 1.41-.59l7.78-7.78 2.81-2.81c.8-.78.8-2.07 0-2.86zM5.41 20L4 18.59l7.72-7.72 1.47 1.35L5.41 20z\"/>\n",
              "  </svg>\n",
              "      </button>\n",
              "      \n",
              "  <style>\n",
              "    .colab-df-container {\n",
              "      display:flex;\n",
              "      flex-wrap:wrap;\n",
              "      gap: 12px;\n",
              "    }\n",
              "\n",
              "    .colab-df-convert {\n",
              "      background-color: #E8F0FE;\n",
              "      border: none;\n",
              "      border-radius: 50%;\n",
              "      cursor: pointer;\n",
              "      display: none;\n",
              "      fill: #1967D2;\n",
              "      height: 32px;\n",
              "      padding: 0 0 0 0;\n",
              "      width: 32px;\n",
              "    }\n",
              "\n",
              "    .colab-df-convert:hover {\n",
              "      background-color: #E2EBFA;\n",
              "      box-shadow: 0px 1px 2px rgba(60, 64, 67, 0.3), 0px 1px 3px 1px rgba(60, 64, 67, 0.15);\n",
              "      fill: #174EA6;\n",
              "    }\n",
              "\n",
              "    [theme=dark] .colab-df-convert {\n",
              "      background-color: #3B4455;\n",
              "      fill: #D2E3FC;\n",
              "    }\n",
              "\n",
              "    [theme=dark] .colab-df-convert:hover {\n",
              "      background-color: #434B5C;\n",
              "      box-shadow: 0px 1px 3px 1px rgba(0, 0, 0, 0.15);\n",
              "      filter: drop-shadow(0px 1px 2px rgba(0, 0, 0, 0.3));\n",
              "      fill: #FFFFFF;\n",
              "    }\n",
              "  </style>\n",
              "\n",
              "      <script>\n",
              "        const buttonEl =\n",
              "          document.querySelector('#df-c1e32a4f-9feb-4bb2-8441-c996f92728b5 button.colab-df-convert');\n",
              "        buttonEl.style.display =\n",
              "          google.colab.kernel.accessAllowed ? 'block' : 'none';\n",
              "\n",
              "        async function convertToInteractive(key) {\n",
              "          const element = document.querySelector('#df-c1e32a4f-9feb-4bb2-8441-c996f92728b5');\n",
              "          const dataTable =\n",
              "            await google.colab.kernel.invokeFunction('convertToInteractive',\n",
              "                                                     [key], {});\n",
              "          if (!dataTable) return;\n",
              "\n",
              "          const docLinkHtml = 'Like what you see? Visit the ' +\n",
              "            '<a target=\"_blank\" href=https://colab.research.google.com/notebooks/data_table.ipynb>data table notebook</a>'\n",
              "            + ' to learn more about interactive tables.';\n",
              "          element.innerHTML = '';\n",
              "          dataTable['output_type'] = 'display_data';\n",
              "          await google.colab.output.renderOutput(dataTable, element);\n",
              "          const docLink = document.createElement('div');\n",
              "          docLink.innerHTML = docLinkHtml;\n",
              "          element.appendChild(docLink);\n",
              "        }\n",
              "      </script>\n",
              "    </div>\n",
              "  </div>\n",
              "  "
            ]
          },
          "metadata": {},
          "execution_count": 88
        }
      ]
    },
    {
      "cell_type": "code",
      "source": [
        "# display(b.shape)\n",
        "# display(b[b['film_name'].value_counts() > 5].shape)\n",
        "# b['film_id'] > 5\n",
        "\n",
        "count_reviews = b['film_name'].value_counts().to_frame()\n",
        "print(count_reviews.shape)\n",
        "count_reviews = count_reviews[count_reviews['film_name'] >= 5]\n",
        "print(count_reviews.shape)\n",
        "\n",
        "idxs = count_reviews.index"
      ],
      "metadata": {
        "colab": {
          "base_uri": "https://localhost:8080/"
        },
        "id": "qrP-Wtsj382F",
        "outputId": "e4b5637f-f519-4dda-d920-10787a1bebbf"
      },
      "id": "qrP-Wtsj382F",
      "execution_count": 95,
      "outputs": [
        {
          "output_type": "stream",
          "name": "stdout",
          "text": [
            "(335, 1)\n",
            "(176, 1)\n"
          ]
        }
      ]
    },
    {
      "cell_type": "code",
      "source": [
        "idxs"
      ],
      "metadata": {
        "colab": {
          "base_uri": "https://localhost:8080/"
        },
        "id": "xYwSFXQf2TtW",
        "outputId": "a5225d4f-dc8c-47c8-e82a-fc293316e7b1"
      },
      "id": "xYwSFXQf2TtW",
      "execution_count": 96,
      "outputs": [
        {
          "output_type": "execute_result",
          "data": {
            "text/plain": [
              "Index(['Помни', 'Форрест Гамп', 'Зеленая миля', 'Крестный отец', 'Король Лев',\n",
              "       'Американская история X', 'Криминальное чтиво', 'Гладиатор',\n",
              "       'Искусственный разум', 'Дракула',\n",
              "       ...\n",
              "       'Молодая кровь', 'Арарат', 'К2: Предельная высота', 'Сейчас и тогда',\n",
              "       'Защищая твою жизнь', 'Мистер Сталь', 'Побег невозможен',\n",
              "       'Милашка в розовом', 'Призрак и миссис Мьюр', 'Это старое чувство'],\n",
              "      dtype='object', length=176)"
            ]
          },
          "metadata": {},
          "execution_count": 96
        }
      ]
    },
    {
      "cell_type": "code",
      "source": [
        "list_idxs = idxs.to_list()\n",
        "list_idxs"
      ],
      "metadata": {
        "colab": {
          "base_uri": "https://localhost:8080/"
        },
        "id": "PfoCfDnq6Mmy",
        "outputId": "f22b5655-d8af-4b6b-e569-d8d0db20a74f"
      },
      "id": "PfoCfDnq6Mmy",
      "execution_count": 97,
      "outputs": [
        {
          "output_type": "execute_result",
          "data": {
            "text/plain": [
              "['Помни',\n",
              " 'Форрест Гамп',\n",
              " 'Зеленая миля',\n",
              " 'Крестный отец',\n",
              " 'Король Лев',\n",
              " 'Американская история X',\n",
              " 'Криминальное чтиво',\n",
              " 'Гладиатор',\n",
              " 'Искусственный разум',\n",
              " 'Дракула',\n",
              " 'Анастасия',\n",
              " 'Гражданин Кейн',\n",
              " 'Мертвец',\n",
              " 'Привидение',\n",
              " 'Мосты округа Мэдисон',\n",
              " 'Большой Лебовски',\n",
              " 'Грязные танцы',\n",
              " 'Звонок',\n",
              " 'Амадей',\n",
              " 'Казино',\n",
              " '12 обезьян',\n",
              " 'Скала',\n",
              " 'Магнолия',\n",
              " 'Чужой 3',\n",
              " '50 первых поцелуев',\n",
              " 'Огни большого города',\n",
              " 'Битлджюс',\n",
              " 'Фарго',\n",
              " 'Кейт и Лео',\n",
              " 'Простая история',\n",
              " 'Звёздные войны: Эпизод 6 — Возвращение Джедая',\n",
              " 'Рекрут',\n",
              " 'Смерть ей к лицу',\n",
              " 'Вспомнить всё',\n",
              " 'Убить пересмешника',\n",
              " 'Аладдин',\n",
              " 'История рыцаря',\n",
              " 'Чего хотят женщины',\n",
              " 'Королевская битва',\n",
              " 'Мумия возвращается',\n",
              " 'Трудная мишень',\n",
              " 'Тельма и Луиза',\n",
              " 'Послание в бутылке',\n",
              " 'Бездна',\n",
              " 'Лжец, лжец',\n",
              " 'Братство волка',\n",
              " 'Знакомство с родителями',\n",
              " 'Быстрый и мертвый',\n",
              " 'Геркулес',\n",
              " 'Горбун из Нотр Дама',\n",
              " 'Ганди',\n",
              " 'Энни Холл',\n",
              " 'Суперзвезда',\n",
              " 'Крик 3',\n",
              " 'Мэй',\n",
              " 'Несколько хороших парней',\n",
              " 'Оборотень',\n",
              " 'Каждое воскресенье',\n",
              " 'Взрыв из прошлого',\n",
              " 'Школа рока',\n",
              " 'Траффик',\n",
              " 'Такси 2',\n",
              " 'Охотники за привидениями',\n",
              " 'Дети шпионов',\n",
              " 'Елена в ящике',\n",
              " 'Неспящие в Сиэттле',\n",
              " 'Золотая лихорадка',\n",
              " 'Поцелуй дракона',\n",
              " 'Умри, но не сейчас',\n",
              " 'Странные дни',\n",
              " 'Дорога на Арлингтон',\n",
              " 'Слезы солнца',\n",
              " 'Ведьмина служба доставки',\n",
              " 'Целуя девушек',\n",
              " 'Дом на краю света',\n",
              " 'Двойная страховка',\n",
              " 'Из Африки',\n",
              " 'Джон Ф. Кеннеди: Выстрелы в Далласе',\n",
              " 'Детский час',\n",
              " 'Выбор Софи',\n",
              " 'Полицейский из Беверли-Хиллз',\n",
              " 'Французский связной',\n",
              " 'Враг мой',\n",
              " 'Волшебник страны Оз',\n",
              " 'Охотники за привидениями 2',\n",
              " 'Анализируй это',\n",
              " 'Граф Монте-Кристо',\n",
              " 'Бриолин',\n",
              " 'Дорога на Эльдорадо',\n",
              " 'Легенда Багера Ванса',\n",
              " 'Дорожное приключение',\n",
              " 'Дом духов',\n",
              " 'Горячие головы',\n",
              " 'Как важно быть серьезным',\n",
              " 'Комната Марвина',\n",
              " 'Кошачий глаз',\n",
              " 'Рок-звезда',\n",
              " 'Ядовитый плющ',\n",
              " 'Динозавр',\n",
              " 'Тыквоголовый',\n",
              " 'Нецелованная',\n",
              " 'Шанхайские рыцари',\n",
              " 'Изгои',\n",
              " 'Песни со второго этажа',\n",
              " 'Бунтарь без причины',\n",
              " 'Почтальон всегда звонит дважды',\n",
              " 'Модная мамочка',\n",
              " '1492: Завоевание рая',\n",
              " 'Дик Трэйси',\n",
              " 'Нигде',\n",
              " 'Убрать перископ',\n",
              " '48 часов',\n",
              " 'Проклятие нефритового скорпиона',\n",
              " 'Сильная женщина',\n",
              " 'В порту',\n",
              " 'Вестсайдская история',\n",
              " 'Телохранитель',\n",
              " 'Моя большая греческая свадьба',\n",
              " 'Язык нежности',\n",
              " 'Шестнадцать свечей',\n",
              " 'Красавчик Джонни',\n",
              " 'Клуб первых жен',\n",
              " 'Рождение нации',\n",
              " 'Другие ипостаси',\n",
              " 'Разбирая Гарри',\n",
              " '101 далматинец',\n",
              " 'Пули над Бродвеем',\n",
              " 'Гроздья гнева',\n",
              " 'Деловая женщина',\n",
              " 'Отточенное лезвие',\n",
              " 'Незабываемый роман',\n",
              " 'Филадельфийская история',\n",
              " 'Его девушка Пятница',\n",
              " 'Конвой',\n",
              " 'Тумстоун: Легенда дикого запада',\n",
              " 'Ценности семейки Аддамс',\n",
              " 'Бесшабашное ограбление',\n",
              " 'Робин Гуд: Мужчины в трико',\n",
              " 'Пришельцы в Америке',\n",
              " 'Леди Джейн',\n",
              " 'Графиня из Гонконга',\n",
              " 'Два мула для сестры Сары',\n",
              " 'Зазубренное лезвие',\n",
              " 'До и после',\n",
              " 'Магазинчик ужасов',\n",
              " 'Голый пистолет 2 1/2: Запах страха',\n",
              " 'Всемирная история, часть 1',\n",
              " 'Джулия',\n",
              " 'Ночь в баре Маккула',\n",
              " 'Убийства в Черри-Фолс',\n",
              " 'Полтергейст 3',\n",
              " 'Люди-кошки',\n",
              " 'Герой',\n",
              " 'Гамбит',\n",
              " 'Вокруг Света за 80 дней',\n",
              " 'Нортфорк',\n",
              " 'Жена епископа',\n",
              " 'Пошел ты, Фредди',\n",
              " 'Увлечение',\n",
              " 'Человек с рентгеновскими глазами',\n",
              " 'Придурок',\n",
              " 'Анализируй то',\n",
              " 'Вход и выход',\n",
              " 'Теленовости',\n",
              " 'Тот, кто меня бережет',\n",
              " 'Девять месяцев',\n",
              " 'Молодая кровь',\n",
              " 'Арарат',\n",
              " 'К2: Предельная высота',\n",
              " 'Сейчас и тогда',\n",
              " 'Защищая твою жизнь',\n",
              " 'Мистер Сталь',\n",
              " 'Побег невозможен',\n",
              " 'Милашка в розовом',\n",
              " 'Призрак и миссис Мьюр',\n",
              " 'Это старое чувство']"
            ]
          },
          "metadata": {},
          "execution_count": 97
        }
      ]
    },
    {
      "cell_type": "code",
      "source": [
        "filtered_films = pd.DataFrame(list_idxs, columns = ['filtered_film_names'])\n",
        "filtered_films.head()\n",
        "# list_idxs"
      ],
      "metadata": {
        "colab": {
          "base_uri": "https://localhost:8080/",
          "height": 206
        },
        "id": "2D3uAmCE6fx-",
        "outputId": "b085873e-d0f5-4222-acd4-39de194f8908"
      },
      "id": "2D3uAmCE6fx-",
      "execution_count": 100,
      "outputs": [
        {
          "output_type": "execute_result",
          "data": {
            "text/plain": [
              "  filtered_film_names\n",
              "0               Помни\n",
              "1        Форрест Гамп\n",
              "2        Зеленая миля\n",
              "3       Крестный отец\n",
              "4          Король Лев"
            ],
            "text/html": [
              "\n",
              "  <div id=\"df-71eb403c-b39b-42a2-815d-0fb99766a2fe\">\n",
              "    <div class=\"colab-df-container\">\n",
              "      <div>\n",
              "<style scoped>\n",
              "    .dataframe tbody tr th:only-of-type {\n",
              "        vertical-align: middle;\n",
              "    }\n",
              "\n",
              "    .dataframe tbody tr th {\n",
              "        vertical-align: top;\n",
              "    }\n",
              "\n",
              "    .dataframe thead th {\n",
              "        text-align: right;\n",
              "    }\n",
              "</style>\n",
              "<table border=\"1\" class=\"dataframe\">\n",
              "  <thead>\n",
              "    <tr style=\"text-align: right;\">\n",
              "      <th></th>\n",
              "      <th>filtered_film_names</th>\n",
              "    </tr>\n",
              "  </thead>\n",
              "  <tbody>\n",
              "    <tr>\n",
              "      <th>0</th>\n",
              "      <td>Помни</td>\n",
              "    </tr>\n",
              "    <tr>\n",
              "      <th>1</th>\n",
              "      <td>Форрест Гамп</td>\n",
              "    </tr>\n",
              "    <tr>\n",
              "      <th>2</th>\n",
              "      <td>Зеленая миля</td>\n",
              "    </tr>\n",
              "    <tr>\n",
              "      <th>3</th>\n",
              "      <td>Крестный отец</td>\n",
              "    </tr>\n",
              "    <tr>\n",
              "      <th>4</th>\n",
              "      <td>Король Лев</td>\n",
              "    </tr>\n",
              "  </tbody>\n",
              "</table>\n",
              "</div>\n",
              "      <button class=\"colab-df-convert\" onclick=\"convertToInteractive('df-71eb403c-b39b-42a2-815d-0fb99766a2fe')\"\n",
              "              title=\"Convert this dataframe to an interactive table.\"\n",
              "              style=\"display:none;\">\n",
              "        \n",
              "  <svg xmlns=\"http://www.w3.org/2000/svg\" height=\"24px\"viewBox=\"0 0 24 24\"\n",
              "       width=\"24px\">\n",
              "    <path d=\"M0 0h24v24H0V0z\" fill=\"none\"/>\n",
              "    <path d=\"M18.56 5.44l.94 2.06.94-2.06 2.06-.94-2.06-.94-.94-2.06-.94 2.06-2.06.94zm-11 1L8.5 8.5l.94-2.06 2.06-.94-2.06-.94L8.5 2.5l-.94 2.06-2.06.94zm10 10l.94 2.06.94-2.06 2.06-.94-2.06-.94-.94-2.06-.94 2.06-2.06.94z\"/><path d=\"M17.41 7.96l-1.37-1.37c-.4-.4-.92-.59-1.43-.59-.52 0-1.04.2-1.43.59L10.3 9.45l-7.72 7.72c-.78.78-.78 2.05 0 2.83L4 21.41c.39.39.9.59 1.41.59.51 0 1.02-.2 1.41-.59l7.78-7.78 2.81-2.81c.8-.78.8-2.07 0-2.86zM5.41 20L4 18.59l7.72-7.72 1.47 1.35L5.41 20z\"/>\n",
              "  </svg>\n",
              "      </button>\n",
              "      \n",
              "  <style>\n",
              "    .colab-df-container {\n",
              "      display:flex;\n",
              "      flex-wrap:wrap;\n",
              "      gap: 12px;\n",
              "    }\n",
              "\n",
              "    .colab-df-convert {\n",
              "      background-color: #E8F0FE;\n",
              "      border: none;\n",
              "      border-radius: 50%;\n",
              "      cursor: pointer;\n",
              "      display: none;\n",
              "      fill: #1967D2;\n",
              "      height: 32px;\n",
              "      padding: 0 0 0 0;\n",
              "      width: 32px;\n",
              "    }\n",
              "\n",
              "    .colab-df-convert:hover {\n",
              "      background-color: #E2EBFA;\n",
              "      box-shadow: 0px 1px 2px rgba(60, 64, 67, 0.3), 0px 1px 3px 1px rgba(60, 64, 67, 0.15);\n",
              "      fill: #174EA6;\n",
              "    }\n",
              "\n",
              "    [theme=dark] .colab-df-convert {\n",
              "      background-color: #3B4455;\n",
              "      fill: #D2E3FC;\n",
              "    }\n",
              "\n",
              "    [theme=dark] .colab-df-convert:hover {\n",
              "      background-color: #434B5C;\n",
              "      box-shadow: 0px 1px 3px 1px rgba(0, 0, 0, 0.15);\n",
              "      filter: drop-shadow(0px 1px 2px rgba(0, 0, 0, 0.3));\n",
              "      fill: #FFFFFF;\n",
              "    }\n",
              "  </style>\n",
              "\n",
              "      <script>\n",
              "        const buttonEl =\n",
              "          document.querySelector('#df-71eb403c-b39b-42a2-815d-0fb99766a2fe button.colab-df-convert');\n",
              "        buttonEl.style.display =\n",
              "          google.colab.kernel.accessAllowed ? 'block' : 'none';\n",
              "\n",
              "        async function convertToInteractive(key) {\n",
              "          const element = document.querySelector('#df-71eb403c-b39b-42a2-815d-0fb99766a2fe');\n",
              "          const dataTable =\n",
              "            await google.colab.kernel.invokeFunction('convertToInteractive',\n",
              "                                                     [key], {});\n",
              "          if (!dataTable) return;\n",
              "\n",
              "          const docLinkHtml = 'Like what you see? Visit the ' +\n",
              "            '<a target=\"_blank\" href=https://colab.research.google.com/notebooks/data_table.ipynb>data table notebook</a>'\n",
              "            + ' to learn more about interactive tables.';\n",
              "          element.innerHTML = '';\n",
              "          dataTable['output_type'] = 'display_data';\n",
              "          await google.colab.output.renderOutput(dataTable, element);\n",
              "          const docLink = document.createElement('div');\n",
              "          docLink.innerHTML = docLinkHtml;\n",
              "          element.appendChild(docLink);\n",
              "        }\n",
              "      </script>\n",
              "    </div>\n",
              "  </div>\n",
              "  "
            ]
          },
          "metadata": {},
          "execution_count": 100
        }
      ]
    },
    {
      "cell_type": "code",
      "source": [
        "df.head()"
      ],
      "metadata": {
        "colab": {
          "base_uri": "https://localhost:8080/",
          "height": 206
        },
        "id": "2OjoYKk17bni",
        "outputId": "991e9349-4a2a-46c6-bc05-c5a09a916894"
      },
      "id": "2OjoYKk17bni",
      "execution_count": 101,
      "outputs": [
        {
          "output_type": "execute_result",
          "data": {
            "text/plain": [
              "  film_id film_name                                        film_review  \\\n",
              "0     306    Рекрут  К концу 1970-х годов новозеландский кинематогр...   \n",
              "1     306    Рекрут  Проходясь по фильмографии моего любимого Колин...   \n",
              "2     306    Рекрут  Шпионский триллер Роджера Дональдсона «Рекрут»...   \n",
              "3     306    Рекрут  Фильмы начала 2000-годов всегда привлекали мое...   \n",
              "4     306    Рекрут  К студенту Джеймсу Клейтону обращается агент Ц...   \n",
              "\n",
              "    pos/neg user_likes user_dislikes  \n",
              "0  POSITIVE          0             0  \n",
              "1  NEGATIVE          2             2  \n",
              "2  POSITIVE          3             0  \n",
              "3  POSITIVE          2             1  \n",
              "4  POSITIVE          3             0  "
            ],
            "text/html": [
              "\n",
              "  <div id=\"df-e7e90ba4-8bbc-422f-a64b-e65cfa85654d\">\n",
              "    <div class=\"colab-df-container\">\n",
              "      <div>\n",
              "<style scoped>\n",
              "    .dataframe tbody tr th:only-of-type {\n",
              "        vertical-align: middle;\n",
              "    }\n",
              "\n",
              "    .dataframe tbody tr th {\n",
              "        vertical-align: top;\n",
              "    }\n",
              "\n",
              "    .dataframe thead th {\n",
              "        text-align: right;\n",
              "    }\n",
              "</style>\n",
              "<table border=\"1\" class=\"dataframe\">\n",
              "  <thead>\n",
              "    <tr style=\"text-align: right;\">\n",
              "      <th></th>\n",
              "      <th>film_id</th>\n",
              "      <th>film_name</th>\n",
              "      <th>film_review</th>\n",
              "      <th>pos/neg</th>\n",
              "      <th>user_likes</th>\n",
              "      <th>user_dislikes</th>\n",
              "    </tr>\n",
              "  </thead>\n",
              "  <tbody>\n",
              "    <tr>\n",
              "      <th>0</th>\n",
              "      <td>306</td>\n",
              "      <td>Рекрут</td>\n",
              "      <td>К концу 1970-х годов новозеландский кинематогр...</td>\n",
              "      <td>POSITIVE</td>\n",
              "      <td>0</td>\n",
              "      <td>0</td>\n",
              "    </tr>\n",
              "    <tr>\n",
              "      <th>1</th>\n",
              "      <td>306</td>\n",
              "      <td>Рекрут</td>\n",
              "      <td>Проходясь по фильмографии моего любимого Колин...</td>\n",
              "      <td>NEGATIVE</td>\n",
              "      <td>2</td>\n",
              "      <td>2</td>\n",
              "    </tr>\n",
              "    <tr>\n",
              "      <th>2</th>\n",
              "      <td>306</td>\n",
              "      <td>Рекрут</td>\n",
              "      <td>Шпионский триллер Роджера Дональдсона «Рекрут»...</td>\n",
              "      <td>POSITIVE</td>\n",
              "      <td>3</td>\n",
              "      <td>0</td>\n",
              "    </tr>\n",
              "    <tr>\n",
              "      <th>3</th>\n",
              "      <td>306</td>\n",
              "      <td>Рекрут</td>\n",
              "      <td>Фильмы начала 2000-годов всегда привлекали мое...</td>\n",
              "      <td>POSITIVE</td>\n",
              "      <td>2</td>\n",
              "      <td>1</td>\n",
              "    </tr>\n",
              "    <tr>\n",
              "      <th>4</th>\n",
              "      <td>306</td>\n",
              "      <td>Рекрут</td>\n",
              "      <td>К студенту Джеймсу Клейтону обращается агент Ц...</td>\n",
              "      <td>POSITIVE</td>\n",
              "      <td>3</td>\n",
              "      <td>0</td>\n",
              "    </tr>\n",
              "  </tbody>\n",
              "</table>\n",
              "</div>\n",
              "      <button class=\"colab-df-convert\" onclick=\"convertToInteractive('df-e7e90ba4-8bbc-422f-a64b-e65cfa85654d')\"\n",
              "              title=\"Convert this dataframe to an interactive table.\"\n",
              "              style=\"display:none;\">\n",
              "        \n",
              "  <svg xmlns=\"http://www.w3.org/2000/svg\" height=\"24px\"viewBox=\"0 0 24 24\"\n",
              "       width=\"24px\">\n",
              "    <path d=\"M0 0h24v24H0V0z\" fill=\"none\"/>\n",
              "    <path d=\"M18.56 5.44l.94 2.06.94-2.06 2.06-.94-2.06-.94-.94-2.06-.94 2.06-2.06.94zm-11 1L8.5 8.5l.94-2.06 2.06-.94-2.06-.94L8.5 2.5l-.94 2.06-2.06.94zm10 10l.94 2.06.94-2.06 2.06-.94-2.06-.94-.94-2.06-.94 2.06-2.06.94z\"/><path d=\"M17.41 7.96l-1.37-1.37c-.4-.4-.92-.59-1.43-.59-.52 0-1.04.2-1.43.59L10.3 9.45l-7.72 7.72c-.78.78-.78 2.05 0 2.83L4 21.41c.39.39.9.59 1.41.59.51 0 1.02-.2 1.41-.59l7.78-7.78 2.81-2.81c.8-.78.8-2.07 0-2.86zM5.41 20L4 18.59l7.72-7.72 1.47 1.35L5.41 20z\"/>\n",
              "  </svg>\n",
              "      </button>\n",
              "      \n",
              "  <style>\n",
              "    .colab-df-container {\n",
              "      display:flex;\n",
              "      flex-wrap:wrap;\n",
              "      gap: 12px;\n",
              "    }\n",
              "\n",
              "    .colab-df-convert {\n",
              "      background-color: #E8F0FE;\n",
              "      border: none;\n",
              "      border-radius: 50%;\n",
              "      cursor: pointer;\n",
              "      display: none;\n",
              "      fill: #1967D2;\n",
              "      height: 32px;\n",
              "      padding: 0 0 0 0;\n",
              "      width: 32px;\n",
              "    }\n",
              "\n",
              "    .colab-df-convert:hover {\n",
              "      background-color: #E2EBFA;\n",
              "      box-shadow: 0px 1px 2px rgba(60, 64, 67, 0.3), 0px 1px 3px 1px rgba(60, 64, 67, 0.15);\n",
              "      fill: #174EA6;\n",
              "    }\n",
              "\n",
              "    [theme=dark] .colab-df-convert {\n",
              "      background-color: #3B4455;\n",
              "      fill: #D2E3FC;\n",
              "    }\n",
              "\n",
              "    [theme=dark] .colab-df-convert:hover {\n",
              "      background-color: #434B5C;\n",
              "      box-shadow: 0px 1px 3px 1px rgba(0, 0, 0, 0.15);\n",
              "      filter: drop-shadow(0px 1px 2px rgba(0, 0, 0, 0.3));\n",
              "      fill: #FFFFFF;\n",
              "    }\n",
              "  </style>\n",
              "\n",
              "      <script>\n",
              "        const buttonEl =\n",
              "          document.querySelector('#df-e7e90ba4-8bbc-422f-a64b-e65cfa85654d button.colab-df-convert');\n",
              "        buttonEl.style.display =\n",
              "          google.colab.kernel.accessAllowed ? 'block' : 'none';\n",
              "\n",
              "        async function convertToInteractive(key) {\n",
              "          const element = document.querySelector('#df-e7e90ba4-8bbc-422f-a64b-e65cfa85654d');\n",
              "          const dataTable =\n",
              "            await google.colab.kernel.invokeFunction('convertToInteractive',\n",
              "                                                     [key], {});\n",
              "          if (!dataTable) return;\n",
              "\n",
              "          const docLinkHtml = 'Like what you see? Visit the ' +\n",
              "            '<a target=\"_blank\" href=https://colab.research.google.com/notebooks/data_table.ipynb>data table notebook</a>'\n",
              "            + ' to learn more about interactive tables.';\n",
              "          element.innerHTML = '';\n",
              "          dataTable['output_type'] = 'display_data';\n",
              "          await google.colab.output.renderOutput(dataTable, element);\n",
              "          const docLink = document.createElement('div');\n",
              "          docLink.innerHTML = docLinkHtml;\n",
              "          element.appendChild(docLink);\n",
              "        }\n",
              "      </script>\n",
              "    </div>\n",
              "  </div>\n",
              "  "
            ]
          },
          "metadata": {},
          "execution_count": 101
        }
      ]
    },
    {
      "cell_type": "code",
      "source": [
        "# Save DataFrame with reviews to .csv\n",
        "df.to_csv('films_reviews_1.csv')\n",
        "filtered_films.to_csv('filtered_films.csv')\n",
        "reviews_for_csv.shape"
      ],
      "metadata": {
        "colab": {
          "base_uri": "https://localhost:8080/"
        },
        "outputId": "57a489a2-5563-4a58-d5b9-05bea9ebff56",
        "id": "H7e-6AYw7x1x"
      },
      "execution_count": 102,
      "outputs": [
        {
          "output_type": "execute_result",
          "data": {
            "text/plain": [
              "(3803, 6)"
            ]
          },
          "metadata": {},
          "execution_count": 102
        }
      ],
      "id": "H7e-6AYw7x1x"
    },
    {
      "cell_type": "code",
      "source": [
        "# Copy .csv file \n",
        "%cp -av '/content/films_reviews_1.csv' '/content/drive/MyDrive/Учеба/2 сем/NLP/HWs/HW3'\n",
        "%cp -av '/content/filtered_films.csv' '/content/drive/MyDrive/Учеба/2 сем/NLP/HWs/HW3'"
      ],
      "metadata": {
        "colab": {
          "base_uri": "https://localhost:8080/"
        },
        "outputId": "0ec1a230-7e17-40f9-cfe2-cba6140c0f5f",
        "id": "rpPiCGcc7x11"
      },
      "execution_count": 103,
      "outputs": [
        {
          "output_type": "stream",
          "name": "stdout",
          "text": [
            "'/content/films_reviews_1.csv' -> '/content/drive/MyDrive/Учеба/2 сем/NLP/HWs/HW3/films_reviews_1.csv'\n",
            "'/content/filtered_films.csv' -> '/content/drive/MyDrive/Учеба/2 сем/NLP/HWs/HW3/filtered_films.csv'\n"
          ]
        }
      ],
      "id": "rpPiCGcc7x11"
    },
    {
      "cell_type": "code",
      "source": [
        "b.shape"
      ],
      "metadata": {
        "colab": {
          "base_uri": "https://localhost:8080/"
        },
        "id": "4rcDx7My67D-",
        "outputId": "96358af8-442d-4f2b-eb0f-c6e2855c81c8"
      },
      "id": "4rcDx7My67D-",
      "execution_count": 98,
      "outputs": [
        {
          "output_type": "execute_result",
          "data": {
            "text/plain": [
              "(7418, 7)"
            ]
          },
          "metadata": {},
          "execution_count": 98
        }
      ]
    },
    {
      "cell_type": "code",
      "source": [
        ""
      ],
      "metadata": {
        "id": "cilLwT2G7GcW"
      },
      "id": "cilLwT2G7GcW",
      "execution_count": null,
      "outputs": []
    },
    {
      "cell_type": "code",
      "source": [
        "b[b['']]"
      ],
      "metadata": {
        "id": "Fj8693ev6_MF"
      },
      "id": "Fj8693ev6_MF",
      "execution_count": null,
      "outputs": []
    },
    {
      "cell_type": "code",
      "source": [
        ""
      ],
      "metadata": {
        "id": "sruiq9vK7CzK"
      },
      "id": "sruiq9vK7CzK",
      "execution_count": null,
      "outputs": []
    },
    {
      "cell_type": "code",
      "source": [
        "a['like_ratio'] = a['user_likes'] / a['user_dislikes']\n",
        "a.head()"
      ],
      "metadata": {
        "id": "OJQnDUHmzRJG"
      },
      "id": "OJQnDUHmzRJG",
      "execution_count": null,
      "outputs": []
    },
    {
      "cell_type": "code",
      "source": [
        "a['like_ratio'] = 0\n",
        "a.head()"
      ],
      "metadata": {
        "id": "1B2g6Foz03ZJ"
      },
      "id": "1B2g6Foz03ZJ",
      "execution_count": null,
      "outputs": []
    },
    {
      "cell_type": "code",
      "source": [
        "def do_smth(x):\n",
        "  print(x)\n",
        "  \n",
        "  # if x['user_dislikes'] == 0:\n",
        "  #   return 1\n",
        "  return 0"
      ],
      "metadata": {
        "id": "yfKXfmaW0Lq2"
      },
      "id": "yfKXfmaW0Lq2",
      "execution_count": 77,
      "outputs": []
    },
    {
      "cell_type": "code",
      "source": [
        "b = a.copy()\n",
        "\n",
        "# # b = b.apply(lambda x: do_smth(x))\n",
        "# b.head()"
      ],
      "metadata": {
        "colab": {
          "base_uri": "https://localhost:8080/",
          "height": 206
        },
        "id": "SON-1GyI0etn",
        "outputId": "c8fe2865-1c8c-4fc9-b95f-eb71da2dad71"
      },
      "id": "SON-1GyI0etn",
      "execution_count": 80,
      "outputs": [
        {
          "output_type": "execute_result",
          "data": {
            "text/plain": [
              "   film_id film_name                                        film_review  \\\n",
              "6      306    Рекрут  С фильмом «Рекрут» (The Recruit, 2003) получае...   \n",
              "9      306    Рекрут  Джеймс Клэйтон — талантливый программист, выну...   \n",
              "14     306    Рекрут  Рекрут представляет собой изощренный и закруче...   \n",
              "15     306    Рекрут  Фильм довольно интересный. Нет, правда. Он, ко...   \n",
              "16     306    Рекрут  Фильм, вышедший в 2002-ом году и собравший неп...   \n",
              "\n",
              "     pos/neg user_likes user_dislikes  like_ratio  \n",
              "6    NEUTRAL          4             4           0  \n",
              "9   POSITIVE          4             1           0  \n",
              "14   NEUTRAL         14             5           0  \n",
              "15   NEUTRAL          5             3           0  \n",
              "16  NEGATIVE         16             6           0  "
            ],
            "text/html": [
              "\n",
              "  <div id=\"df-2e3ba062-0b1c-435f-9781-7312c2ccb2a2\">\n",
              "    <div class=\"colab-df-container\">\n",
              "      <div>\n",
              "<style scoped>\n",
              "    .dataframe tbody tr th:only-of-type {\n",
              "        vertical-align: middle;\n",
              "    }\n",
              "\n",
              "    .dataframe tbody tr th {\n",
              "        vertical-align: top;\n",
              "    }\n",
              "\n",
              "    .dataframe thead th {\n",
              "        text-align: right;\n",
              "    }\n",
              "</style>\n",
              "<table border=\"1\" class=\"dataframe\">\n",
              "  <thead>\n",
              "    <tr style=\"text-align: right;\">\n",
              "      <th></th>\n",
              "      <th>film_id</th>\n",
              "      <th>film_name</th>\n",
              "      <th>film_review</th>\n",
              "      <th>pos/neg</th>\n",
              "      <th>user_likes</th>\n",
              "      <th>user_dislikes</th>\n",
              "      <th>like_ratio</th>\n",
              "    </tr>\n",
              "  </thead>\n",
              "  <tbody>\n",
              "    <tr>\n",
              "      <th>6</th>\n",
              "      <td>306</td>\n",
              "      <td>Рекрут</td>\n",
              "      <td>С фильмом «Рекрут» (The Recruit, 2003) получае...</td>\n",
              "      <td>NEUTRAL</td>\n",
              "      <td>4</td>\n",
              "      <td>4</td>\n",
              "      <td>0</td>\n",
              "    </tr>\n",
              "    <tr>\n",
              "      <th>9</th>\n",
              "      <td>306</td>\n",
              "      <td>Рекрут</td>\n",
              "      <td>Джеймс Клэйтон — талантливый программист, выну...</td>\n",
              "      <td>POSITIVE</td>\n",
              "      <td>4</td>\n",
              "      <td>1</td>\n",
              "      <td>0</td>\n",
              "    </tr>\n",
              "    <tr>\n",
              "      <th>14</th>\n",
              "      <td>306</td>\n",
              "      <td>Рекрут</td>\n",
              "      <td>Рекрут представляет собой изощренный и закруче...</td>\n",
              "      <td>NEUTRAL</td>\n",
              "      <td>14</td>\n",
              "      <td>5</td>\n",
              "      <td>0</td>\n",
              "    </tr>\n",
              "    <tr>\n",
              "      <th>15</th>\n",
              "      <td>306</td>\n",
              "      <td>Рекрут</td>\n",
              "      <td>Фильм довольно интересный. Нет, правда. Он, ко...</td>\n",
              "      <td>NEUTRAL</td>\n",
              "      <td>5</td>\n",
              "      <td>3</td>\n",
              "      <td>0</td>\n",
              "    </tr>\n",
              "    <tr>\n",
              "      <th>16</th>\n",
              "      <td>306</td>\n",
              "      <td>Рекрут</td>\n",
              "      <td>Фильм, вышедший в 2002-ом году и собравший неп...</td>\n",
              "      <td>NEGATIVE</td>\n",
              "      <td>16</td>\n",
              "      <td>6</td>\n",
              "      <td>0</td>\n",
              "    </tr>\n",
              "  </tbody>\n",
              "</table>\n",
              "</div>\n",
              "      <button class=\"colab-df-convert\" onclick=\"convertToInteractive('df-2e3ba062-0b1c-435f-9781-7312c2ccb2a2')\"\n",
              "              title=\"Convert this dataframe to an interactive table.\"\n",
              "              style=\"display:none;\">\n",
              "        \n",
              "  <svg xmlns=\"http://www.w3.org/2000/svg\" height=\"24px\"viewBox=\"0 0 24 24\"\n",
              "       width=\"24px\">\n",
              "    <path d=\"M0 0h24v24H0V0z\" fill=\"none\"/>\n",
              "    <path d=\"M18.56 5.44l.94 2.06.94-2.06 2.06-.94-2.06-.94-.94-2.06-.94 2.06-2.06.94zm-11 1L8.5 8.5l.94-2.06 2.06-.94-2.06-.94L8.5 2.5l-.94 2.06-2.06.94zm10 10l.94 2.06.94-2.06 2.06-.94-2.06-.94-.94-2.06-.94 2.06-2.06.94z\"/><path d=\"M17.41 7.96l-1.37-1.37c-.4-.4-.92-.59-1.43-.59-.52 0-1.04.2-1.43.59L10.3 9.45l-7.72 7.72c-.78.78-.78 2.05 0 2.83L4 21.41c.39.39.9.59 1.41.59.51 0 1.02-.2 1.41-.59l7.78-7.78 2.81-2.81c.8-.78.8-2.07 0-2.86zM5.41 20L4 18.59l7.72-7.72 1.47 1.35L5.41 20z\"/>\n",
              "  </svg>\n",
              "      </button>\n",
              "      \n",
              "  <style>\n",
              "    .colab-df-container {\n",
              "      display:flex;\n",
              "      flex-wrap:wrap;\n",
              "      gap: 12px;\n",
              "    }\n",
              "\n",
              "    .colab-df-convert {\n",
              "      background-color: #E8F0FE;\n",
              "      border: none;\n",
              "      border-radius: 50%;\n",
              "      cursor: pointer;\n",
              "      display: none;\n",
              "      fill: #1967D2;\n",
              "      height: 32px;\n",
              "      padding: 0 0 0 0;\n",
              "      width: 32px;\n",
              "    }\n",
              "\n",
              "    .colab-df-convert:hover {\n",
              "      background-color: #E2EBFA;\n",
              "      box-shadow: 0px 1px 2px rgba(60, 64, 67, 0.3), 0px 1px 3px 1px rgba(60, 64, 67, 0.15);\n",
              "      fill: #174EA6;\n",
              "    }\n",
              "\n",
              "    [theme=dark] .colab-df-convert {\n",
              "      background-color: #3B4455;\n",
              "      fill: #D2E3FC;\n",
              "    }\n",
              "\n",
              "    [theme=dark] .colab-df-convert:hover {\n",
              "      background-color: #434B5C;\n",
              "      box-shadow: 0px 1px 3px 1px rgba(0, 0, 0, 0.15);\n",
              "      filter: drop-shadow(0px 1px 2px rgba(0, 0, 0, 0.3));\n",
              "      fill: #FFFFFF;\n",
              "    }\n",
              "  </style>\n",
              "\n",
              "      <script>\n",
              "        const buttonEl =\n",
              "          document.querySelector('#df-2e3ba062-0b1c-435f-9781-7312c2ccb2a2 button.colab-df-convert');\n",
              "        buttonEl.style.display =\n",
              "          google.colab.kernel.accessAllowed ? 'block' : 'none';\n",
              "\n",
              "        async function convertToInteractive(key) {\n",
              "          const element = document.querySelector('#df-2e3ba062-0b1c-435f-9781-7312c2ccb2a2');\n",
              "          const dataTable =\n",
              "            await google.colab.kernel.invokeFunction('convertToInteractive',\n",
              "                                                     [key], {});\n",
              "          if (!dataTable) return;\n",
              "\n",
              "          const docLinkHtml = 'Like what you see? Visit the ' +\n",
              "            '<a target=\"_blank\" href=https://colab.research.google.com/notebooks/data_table.ipynb>data table notebook</a>'\n",
              "            + ' to learn more about interactive tables.';\n",
              "          element.innerHTML = '';\n",
              "          dataTable['output_type'] = 'display_data';\n",
              "          await google.colab.output.renderOutput(dataTable, element);\n",
              "          const docLink = document.createElement('div');\n",
              "          docLink.innerHTML = docLinkHtml;\n",
              "          element.appendChild(docLink);\n",
              "        }\n",
              "      </script>\n",
              "    </div>\n",
              "  </div>\n",
              "  "
            ]
          },
          "metadata": {},
          "execution_count": 80
        }
      ]
    },
    {
      "cell_type": "code",
      "source": [
        "df = df[df['user_likes'] > 3]\n"
      ],
      "metadata": {
        "id": "_2qTHP45zKjy"
      },
      "id": "_2qTHP45zKjy",
      "execution_count": null,
      "outputs": []
    },
    {
      "cell_type": "code",
      "source": [
        ""
      ],
      "metadata": {
        "id": "POhZ6LJ7yZVf"
      },
      "id": "POhZ6LJ7yZVf",
      "execution_count": null,
      "outputs": []
    },
    {
      "cell_type": "code",
      "source": [
        ""
      ],
      "metadata": {
        "id": "zin-f6GcyZYj"
      },
      "id": "zin-f6GcyZYj",
      "execution_count": null,
      "outputs": []
    },
    {
      "cell_type": "code",
      "source": [
        "red"
      ],
      "metadata": {
        "id": "0le0d6oSnl18"
      },
      "id": "0le0d6oSnl18",
      "execution_count": null,
      "outputs": []
    },
    {
      "cell_type": "code",
      "source": [
        "old_df = pd.read_csv('/content/drive/MyDrive/Учеба/2 сем/NLP/HWs/HW3/films_reviews.csv', index_col=0)\n",
        "# new_df = pd.read_csv('/')\n",
        "\n"
      ],
      "metadata": {
        "id": "Ha2KGv9njclr"
      },
      "id": "Ha2KGv9njclr",
      "execution_count": 55,
      "outputs": []
    },
    {
      "cell_type": "code",
      "source": [
        "display(len(old_df)) #, reviews_for_csv\n",
        "display(len(reviews_for_csv))"
      ],
      "metadata": {
        "colab": {
          "base_uri": "https://localhost:8080/",
          "height": 52
        },
        "id": "HYSdZXBdvONf",
        "outputId": "07811a21-fcb1-48e6-a945-0adae7e5e8f0"
      },
      "id": "HYSdZXBdvONf",
      "execution_count": 59,
      "outputs": [
        {
          "output_type": "display_data",
          "data": {
            "text/plain": [
              "6899"
            ]
          },
          "metadata": {}
        },
        {
          "output_type": "display_data",
          "data": {
            "text/plain": [
              "3803"
            ]
          },
          "metadata": {}
        }
      ]
    },
    {
      "cell_type": "code",
      "source": [
        ""
      ],
      "metadata": {
        "id": "tkTutS1gxr0a"
      },
      "id": "tkTutS1gxr0a",
      "execution_count": null,
      "outputs": []
    },
    {
      "cell_type": "code",
      "source": [
        "#### Random choice from comment"
      ],
      "metadata": {
        "id": "YeDLKPb4xuDh"
      },
      "id": "YeDLKPb4xuDh",
      "execution_count": null,
      "outputs": []
    },
    {
      "cell_type": "code",
      "source": [
        "reviews_for_csv.head()"
      ],
      "metadata": {
        "colab": {
          "base_uri": "https://localhost:8080/",
          "height": 206
        },
        "id": "UM24L7XbjcrV",
        "outputId": "5be78f51-5176-4489-8205-c3a9d8dd3182"
      },
      "id": "UM24L7XbjcrV",
      "execution_count": 57,
      "outputs": [
        {
          "output_type": "execute_result",
          "data": {
            "text/plain": [
              "  film_id           film_name  \\\n",
              "0    1794  50 первых поцелуев   \n",
              "1    1794  50 первых поцелуев   \n",
              "2    1794  50 первых поцелуев   \n",
              "3    1794  50 первых поцелуев   \n",
              "4    1794  50 первых поцелуев   \n",
              "\n",
              "                                         film_review   pos/neg user_likes  \\\n",
              "0  Мелодрама? Хорошая мелодрама? Хорошая мелодрам...  POSITIVE          1   \n",
              "1  Генри влюбляется в девушку из кафе Люси. Люси ...  POSITIVE          1   \n",
              "2  Как волнительно первое свидание и сладок первы...  POSITIVE          1   \n",
              "3  Очень милый фильм, наполненный морем, солнцем ...  POSITIVE          0   \n",
              "4  Добротная лирическо-любовная комедия с элемент...  POSITIVE          7   \n",
              "\n",
              "  user_dislikes  \n",
              "0             1  \n",
              "1             0  \n",
              "2             0  \n",
              "3             0  \n",
              "4             0  "
            ],
            "text/html": [
              "\n",
              "  <div id=\"df-ab09d8d2-6c9c-4521-b585-0d7afcd2038f\">\n",
              "    <div class=\"colab-df-container\">\n",
              "      <div>\n",
              "<style scoped>\n",
              "    .dataframe tbody tr th:only-of-type {\n",
              "        vertical-align: middle;\n",
              "    }\n",
              "\n",
              "    .dataframe tbody tr th {\n",
              "        vertical-align: top;\n",
              "    }\n",
              "\n",
              "    .dataframe thead th {\n",
              "        text-align: right;\n",
              "    }\n",
              "</style>\n",
              "<table border=\"1\" class=\"dataframe\">\n",
              "  <thead>\n",
              "    <tr style=\"text-align: right;\">\n",
              "      <th></th>\n",
              "      <th>film_id</th>\n",
              "      <th>film_name</th>\n",
              "      <th>film_review</th>\n",
              "      <th>pos/neg</th>\n",
              "      <th>user_likes</th>\n",
              "      <th>user_dislikes</th>\n",
              "    </tr>\n",
              "  </thead>\n",
              "  <tbody>\n",
              "    <tr>\n",
              "      <th>0</th>\n",
              "      <td>1794</td>\n",
              "      <td>50 первых поцелуев</td>\n",
              "      <td>Мелодрама? Хорошая мелодрама? Хорошая мелодрам...</td>\n",
              "      <td>POSITIVE</td>\n",
              "      <td>1</td>\n",
              "      <td>1</td>\n",
              "    </tr>\n",
              "    <tr>\n",
              "      <th>1</th>\n",
              "      <td>1794</td>\n",
              "      <td>50 первых поцелуев</td>\n",
              "      <td>Генри влюбляется в девушку из кафе Люси. Люси ...</td>\n",
              "      <td>POSITIVE</td>\n",
              "      <td>1</td>\n",
              "      <td>0</td>\n",
              "    </tr>\n",
              "    <tr>\n",
              "      <th>2</th>\n",
              "      <td>1794</td>\n",
              "      <td>50 первых поцелуев</td>\n",
              "      <td>Как волнительно первое свидание и сладок первы...</td>\n",
              "      <td>POSITIVE</td>\n",
              "      <td>1</td>\n",
              "      <td>0</td>\n",
              "    </tr>\n",
              "    <tr>\n",
              "      <th>3</th>\n",
              "      <td>1794</td>\n",
              "      <td>50 первых поцелуев</td>\n",
              "      <td>Очень милый фильм, наполненный морем, солнцем ...</td>\n",
              "      <td>POSITIVE</td>\n",
              "      <td>0</td>\n",
              "      <td>0</td>\n",
              "    </tr>\n",
              "    <tr>\n",
              "      <th>4</th>\n",
              "      <td>1794</td>\n",
              "      <td>50 первых поцелуев</td>\n",
              "      <td>Добротная лирическо-любовная комедия с элемент...</td>\n",
              "      <td>POSITIVE</td>\n",
              "      <td>7</td>\n",
              "      <td>0</td>\n",
              "    </tr>\n",
              "  </tbody>\n",
              "</table>\n",
              "</div>\n",
              "      <button class=\"colab-df-convert\" onclick=\"convertToInteractive('df-ab09d8d2-6c9c-4521-b585-0d7afcd2038f')\"\n",
              "              title=\"Convert this dataframe to an interactive table.\"\n",
              "              style=\"display:none;\">\n",
              "        \n",
              "  <svg xmlns=\"http://www.w3.org/2000/svg\" height=\"24px\"viewBox=\"0 0 24 24\"\n",
              "       width=\"24px\">\n",
              "    <path d=\"M0 0h24v24H0V0z\" fill=\"none\"/>\n",
              "    <path d=\"M18.56 5.44l.94 2.06.94-2.06 2.06-.94-2.06-.94-.94-2.06-.94 2.06-2.06.94zm-11 1L8.5 8.5l.94-2.06 2.06-.94-2.06-.94L8.5 2.5l-.94 2.06-2.06.94zm10 10l.94 2.06.94-2.06 2.06-.94-2.06-.94-.94-2.06-.94 2.06-2.06.94z\"/><path d=\"M17.41 7.96l-1.37-1.37c-.4-.4-.92-.59-1.43-.59-.52 0-1.04.2-1.43.59L10.3 9.45l-7.72 7.72c-.78.78-.78 2.05 0 2.83L4 21.41c.39.39.9.59 1.41.59.51 0 1.02-.2 1.41-.59l7.78-7.78 2.81-2.81c.8-.78.8-2.07 0-2.86zM5.41 20L4 18.59l7.72-7.72 1.47 1.35L5.41 20z\"/>\n",
              "  </svg>\n",
              "      </button>\n",
              "      \n",
              "  <style>\n",
              "    .colab-df-container {\n",
              "      display:flex;\n",
              "      flex-wrap:wrap;\n",
              "      gap: 12px;\n",
              "    }\n",
              "\n",
              "    .colab-df-convert {\n",
              "      background-color: #E8F0FE;\n",
              "      border: none;\n",
              "      border-radius: 50%;\n",
              "      cursor: pointer;\n",
              "      display: none;\n",
              "      fill: #1967D2;\n",
              "      height: 32px;\n",
              "      padding: 0 0 0 0;\n",
              "      width: 32px;\n",
              "    }\n",
              "\n",
              "    .colab-df-convert:hover {\n",
              "      background-color: #E2EBFA;\n",
              "      box-shadow: 0px 1px 2px rgba(60, 64, 67, 0.3), 0px 1px 3px 1px rgba(60, 64, 67, 0.15);\n",
              "      fill: #174EA6;\n",
              "    }\n",
              "\n",
              "    [theme=dark] .colab-df-convert {\n",
              "      background-color: #3B4455;\n",
              "      fill: #D2E3FC;\n",
              "    }\n",
              "\n",
              "    [theme=dark] .colab-df-convert:hover {\n",
              "      background-color: #434B5C;\n",
              "      box-shadow: 0px 1px 3px 1px rgba(0, 0, 0, 0.15);\n",
              "      filter: drop-shadow(0px 1px 2px rgba(0, 0, 0, 0.3));\n",
              "      fill: #FFFFFF;\n",
              "    }\n",
              "  </style>\n",
              "\n",
              "      <script>\n",
              "        const buttonEl =\n",
              "          document.querySelector('#df-ab09d8d2-6c9c-4521-b585-0d7afcd2038f button.colab-df-convert');\n",
              "        buttonEl.style.display =\n",
              "          google.colab.kernel.accessAllowed ? 'block' : 'none';\n",
              "\n",
              "        async function convertToInteractive(key) {\n",
              "          const element = document.querySelector('#df-ab09d8d2-6c9c-4521-b585-0d7afcd2038f');\n",
              "          const dataTable =\n",
              "            await google.colab.kernel.invokeFunction('convertToInteractive',\n",
              "                                                     [key], {});\n",
              "          if (!dataTable) return;\n",
              "\n",
              "          const docLinkHtml = 'Like what you see? Visit the ' +\n",
              "            '<a target=\"_blank\" href=https://colab.research.google.com/notebooks/data_table.ipynb>data table notebook</a>'\n",
              "            + ' to learn more about interactive tables.';\n",
              "          element.innerHTML = '';\n",
              "          dataTable['output_type'] = 'display_data';\n",
              "          await google.colab.output.renderOutput(dataTable, element);\n",
              "          const docLink = document.createElement('div');\n",
              "          docLink.innerHTML = docLinkHtml;\n",
              "          element.appendChild(docLink);\n",
              "        }\n",
              "      </script>\n",
              "    </div>\n",
              "  </div>\n",
              "  "
            ]
          },
          "metadata": {},
          "execution_count": 57
        }
      ]
    },
    {
      "cell_type": "code",
      "source": [
        "# import random\n",
        "# ith = random.randint(0, reviews_for_csv.shape[0])\n",
        "# reviews_for_csv['film_review'][ith]"
      ],
      "metadata": {
        "colab": {
          "base_uri": "https://localhost:8080/",
          "height": 348
        },
        "id": "_bNc5kMlw7gq",
        "outputId": "370a552d-e89c-4dcd-cd4a-5a69a1de9fd8"
      },
      "id": "_bNc5kMlw7gq",
      "execution_count": 64,
      "outputs": [
        {
          "output_type": "execute_result",
          "data": {
            "text/plain": [
              "'Уж больно сложносочиненная вещь. Как справедливо замечается много где, даже жанр определить непросто. Отсюда следует простейший вывод: это постмодернизм. Впрочем в отличие от Тарантино, Джармуша интересует не столько смешение форм в основном из 70-х, сколько пересечение культур и люди, которые живут на границе между этими культурами. «Мертвец» — это путешествие из культуры Востока США в культуру Дикого Запада, из культуры Дикого Запада в культуру индейцев. А дальнейшее путешествие и хождение по границам уже не фиксируется столь определенно. В общем чем дальше в лес, тем больше дров и тем интереснее. Оттого-то все происходящее на экране напоминает притчу. Но по правде сказать, не складывается впечатление, что все это рассказывается серьезно. Эдакая неестественно черная комедия. Единственное, что в фильме вполне определенно — это конец.\\r\\n\\r\\nА вот что в фильме безусловно, так это изобразительный ряд — при минимуме средств добиться столь вожделенной картины надо было постараться. Эффектное черно-белое изображение выглядит лучше всякого колорита во многих цветных шедеврах. Стильный, во всех смыслах, образ Джонни Деппа, соединяющий едва ли не Чарли Чаплина с клоуном, индейцем и ковбоем. Одна боевая раскраска чего стоит. Поражают своей не тривиальностью интерьеры и экстерьеры: поезд, великолепный бар, не менее великолепная грязь на входе в бар, кабинет Дикинсона с чучелом медведя, портретом и прочими выдающимися деталями, лес, река забвения, индейцы. Все это чрезвычайно небанально, вычурно (в положительном смысле) и даже органично. Нельзя отрицать, что и музыка, написанная Нилом Янгом, напускает еще больше эпичности и мистики.\\r\\n\\r\\nНу а то, что значительная часть кадров может украсить любую стену крутости, не обсуждается — одно из канонических изображений Деппа (сидящий в котелке и в боевой раскраске) отсюда. И равных ему по фильму — еще с пару десятков. В общем если бы добавить к картинке хорошие диалоги (и монологи), получился бы шедевр.\\r\\n\\r\\nПо мнению многих, он и получился, но на мой вкус, уж чересчур арт-хаусный шедевр. Слишком уж много смыслов, превращающихся в многозначительность, т. е. надуманность. Не то, чтобы это плохо, но все равно смущает. Кто-то из фанатов, коих очень много у фильма, скажет, что я просто ленив для разгадывания тех кубиков Рубика, что нагорожены в сем творении, а я отвечу: «Война и мир» лучше, чем самая умная и красивая энциклопедия. Можно и другое сравнение применить: Рембрандт посильнее будет, чем паззл. Впрочем, последнее замечание все же грубовато… Фильм ведь в любом случае культовый и не имеющий аналогов.\\r\\n\\r\\n9 из 10'"
            ],
            "application/vnd.google.colaboratory.intrinsic+json": {
              "type": "string"
            }
          },
          "metadata": {},
          "execution_count": 64
        }
      ]
    },
    {
      "cell_type": "code",
      "source": [
        ""
      ],
      "metadata": {
        "id": "czgL8GWCbetd"
      },
      "id": "czgL8GWCbetd",
      "execution_count": null,
      "outputs": []
    },
    {
      "cell_type": "markdown",
      "source": [
        "### Preparing data for training"
      ],
      "metadata": {
        "id": "NfyEe3dZbe8B"
      },
      "id": "NfyEe3dZbe8B"
    },
    {
      "cell_type": "code",
      "source": [
        "from google.colab import drive\n",
        "drive.mount('/content/drive')"
      ],
      "metadata": {
        "colab": {
          "base_uri": "https://localhost:8080/"
        },
        "id": "wYPvImyUdAi-",
        "outputId": "9486a178-3611-43a9-b8b9-b9f4f23aad3d"
      },
      "id": "wYPvImyUdAi-",
      "execution_count": 2,
      "outputs": [
        {
          "output_type": "stream",
          "name": "stdout",
          "text": [
            "Mounted at /content/drive\n"
          ]
        }
      ]
    },
    {
      "cell_type": "code",
      "source": [
        "# Подтянуть табличку с рецензиями на фильм\n",
        "# Отфилтровать рецензии\n",
        "# Оставить в наборе 2 колонки: название - рецензия\n",
        "# Очистить рецензии\n",
        "# Привести к виду, пригодному для обучения"
      ],
      "metadata": {
        "id": "gl46E_MxbfAa"
      },
      "id": "gl46E_MxbfAa",
      "execution_count": null,
      "outputs": []
    },
    {
      "cell_type": "code",
      "source": [
        "path = '/content/drive/MyDrive/Учеба/2 сем/NLP/HWs/HW3/films_reviews_1.csv'\n",
        "df = pd.read_csv(path, index_col=0)\n",
        "display(df.head())\n",
        "display(df.tail())"
      ],
      "metadata": {
        "colab": {
          "base_uri": "https://localhost:8080/",
          "height": 395
        },
        "id": "URh6-3Bkbgy4",
        "outputId": "b5fe52db-e23b-42a5-a646-67fdaaa238e3"
      },
      "id": "URh6-3Bkbgy4",
      "execution_count": 3,
      "outputs": [
        {
          "output_type": "display_data",
          "data": {
            "text/plain": [
              "   film_id film_name                                        film_review  \\\n",
              "0      306    Рекрут  К концу 1970-х годов новозеландский кинематогр...   \n",
              "1      306    Рекрут  Проходясь по фильмографии моего любимого Колин...   \n",
              "2      306    Рекрут  Шпионский триллер Роджера Дональдсона «Рекрут»...   \n",
              "3      306    Рекрут  Фильмы начала 2000-годов всегда привлекали мое...   \n",
              "4      306    Рекрут  К студенту Джеймсу Клейтону обращается агент Ц...   \n",
              "\n",
              "    pos/neg  user_likes  user_dislikes  \n",
              "0  POSITIVE           0              0  \n",
              "1  NEGATIVE           2              2  \n",
              "2  POSITIVE           3              0  \n",
              "3  POSITIVE           2              1  \n",
              "4  POSITIVE           3              0  "
            ],
            "text/html": [
              "\n",
              "  <div id=\"df-6a2aa63f-3639-4c1c-843c-f11e162d8bc0\">\n",
              "    <div class=\"colab-df-container\">\n",
              "      <div>\n",
              "<style scoped>\n",
              "    .dataframe tbody tr th:only-of-type {\n",
              "        vertical-align: middle;\n",
              "    }\n",
              "\n",
              "    .dataframe tbody tr th {\n",
              "        vertical-align: top;\n",
              "    }\n",
              "\n",
              "    .dataframe thead th {\n",
              "        text-align: right;\n",
              "    }\n",
              "</style>\n",
              "<table border=\"1\" class=\"dataframe\">\n",
              "  <thead>\n",
              "    <tr style=\"text-align: right;\">\n",
              "      <th></th>\n",
              "      <th>film_id</th>\n",
              "      <th>film_name</th>\n",
              "      <th>film_review</th>\n",
              "      <th>pos/neg</th>\n",
              "      <th>user_likes</th>\n",
              "      <th>user_dislikes</th>\n",
              "    </tr>\n",
              "  </thead>\n",
              "  <tbody>\n",
              "    <tr>\n",
              "      <th>0</th>\n",
              "      <td>306</td>\n",
              "      <td>Рекрут</td>\n",
              "      <td>К концу 1970-х годов новозеландский кинематогр...</td>\n",
              "      <td>POSITIVE</td>\n",
              "      <td>0</td>\n",
              "      <td>0</td>\n",
              "    </tr>\n",
              "    <tr>\n",
              "      <th>1</th>\n",
              "      <td>306</td>\n",
              "      <td>Рекрут</td>\n",
              "      <td>Проходясь по фильмографии моего любимого Колин...</td>\n",
              "      <td>NEGATIVE</td>\n",
              "      <td>2</td>\n",
              "      <td>2</td>\n",
              "    </tr>\n",
              "    <tr>\n",
              "      <th>2</th>\n",
              "      <td>306</td>\n",
              "      <td>Рекрут</td>\n",
              "      <td>Шпионский триллер Роджера Дональдсона «Рекрут»...</td>\n",
              "      <td>POSITIVE</td>\n",
              "      <td>3</td>\n",
              "      <td>0</td>\n",
              "    </tr>\n",
              "    <tr>\n",
              "      <th>3</th>\n",
              "      <td>306</td>\n",
              "      <td>Рекрут</td>\n",
              "      <td>Фильмы начала 2000-годов всегда привлекали мое...</td>\n",
              "      <td>POSITIVE</td>\n",
              "      <td>2</td>\n",
              "      <td>1</td>\n",
              "    </tr>\n",
              "    <tr>\n",
              "      <th>4</th>\n",
              "      <td>306</td>\n",
              "      <td>Рекрут</td>\n",
              "      <td>К студенту Джеймсу Клейтону обращается агент Ц...</td>\n",
              "      <td>POSITIVE</td>\n",
              "      <td>3</td>\n",
              "      <td>0</td>\n",
              "    </tr>\n",
              "  </tbody>\n",
              "</table>\n",
              "</div>\n",
              "      <button class=\"colab-df-convert\" onclick=\"convertToInteractive('df-6a2aa63f-3639-4c1c-843c-f11e162d8bc0')\"\n",
              "              title=\"Convert this dataframe to an interactive table.\"\n",
              "              style=\"display:none;\">\n",
              "        \n",
              "  <svg xmlns=\"http://www.w3.org/2000/svg\" height=\"24px\"viewBox=\"0 0 24 24\"\n",
              "       width=\"24px\">\n",
              "    <path d=\"M0 0h24v24H0V0z\" fill=\"none\"/>\n",
              "    <path d=\"M18.56 5.44l.94 2.06.94-2.06 2.06-.94-2.06-.94-.94-2.06-.94 2.06-2.06.94zm-11 1L8.5 8.5l.94-2.06 2.06-.94-2.06-.94L8.5 2.5l-.94 2.06-2.06.94zm10 10l.94 2.06.94-2.06 2.06-.94-2.06-.94-.94-2.06-.94 2.06-2.06.94z\"/><path d=\"M17.41 7.96l-1.37-1.37c-.4-.4-.92-.59-1.43-.59-.52 0-1.04.2-1.43.59L10.3 9.45l-7.72 7.72c-.78.78-.78 2.05 0 2.83L4 21.41c.39.39.9.59 1.41.59.51 0 1.02-.2 1.41-.59l7.78-7.78 2.81-2.81c.8-.78.8-2.07 0-2.86zM5.41 20L4 18.59l7.72-7.72 1.47 1.35L5.41 20z\"/>\n",
              "  </svg>\n",
              "      </button>\n",
              "      \n",
              "  <style>\n",
              "    .colab-df-container {\n",
              "      display:flex;\n",
              "      flex-wrap:wrap;\n",
              "      gap: 12px;\n",
              "    }\n",
              "\n",
              "    .colab-df-convert {\n",
              "      background-color: #E8F0FE;\n",
              "      border: none;\n",
              "      border-radius: 50%;\n",
              "      cursor: pointer;\n",
              "      display: none;\n",
              "      fill: #1967D2;\n",
              "      height: 32px;\n",
              "      padding: 0 0 0 0;\n",
              "      width: 32px;\n",
              "    }\n",
              "\n",
              "    .colab-df-convert:hover {\n",
              "      background-color: #E2EBFA;\n",
              "      box-shadow: 0px 1px 2px rgba(60, 64, 67, 0.3), 0px 1px 3px 1px rgba(60, 64, 67, 0.15);\n",
              "      fill: #174EA6;\n",
              "    }\n",
              "\n",
              "    [theme=dark] .colab-df-convert {\n",
              "      background-color: #3B4455;\n",
              "      fill: #D2E3FC;\n",
              "    }\n",
              "\n",
              "    [theme=dark] .colab-df-convert:hover {\n",
              "      background-color: #434B5C;\n",
              "      box-shadow: 0px 1px 3px 1px rgba(0, 0, 0, 0.15);\n",
              "      filter: drop-shadow(0px 1px 2px rgba(0, 0, 0, 0.3));\n",
              "      fill: #FFFFFF;\n",
              "    }\n",
              "  </style>\n",
              "\n",
              "      <script>\n",
              "        const buttonEl =\n",
              "          document.querySelector('#df-6a2aa63f-3639-4c1c-843c-f11e162d8bc0 button.colab-df-convert');\n",
              "        buttonEl.style.display =\n",
              "          google.colab.kernel.accessAllowed ? 'block' : 'none';\n",
              "\n",
              "        async function convertToInteractive(key) {\n",
              "          const element = document.querySelector('#df-6a2aa63f-3639-4c1c-843c-f11e162d8bc0');\n",
              "          const dataTable =\n",
              "            await google.colab.kernel.invokeFunction('convertToInteractive',\n",
              "                                                     [key], {});\n",
              "          if (!dataTable) return;\n",
              "\n",
              "          const docLinkHtml = 'Like what you see? Visit the ' +\n",
              "            '<a target=\"_blank\" href=https://colab.research.google.com/notebooks/data_table.ipynb>data table notebook</a>'\n",
              "            + ' to learn more about interactive tables.';\n",
              "          element.innerHTML = '';\n",
              "          dataTable['output_type'] = 'display_data';\n",
              "          await google.colab.output.renderOutput(dataTable, element);\n",
              "          const docLink = document.createElement('div');\n",
              "          docLink.innerHTML = docLinkHtml;\n",
              "          element.appendChild(docLink);\n",
              "        }\n",
              "      </script>\n",
              "    </div>\n",
              "  </div>\n",
              "  "
            ]
          },
          "metadata": {}
        },
        {
          "output_type": "display_data",
          "data": {
            "text/plain": [
              "       film_id film_name                                        film_review  \\\n",
              "10697     2719  Нортфорк  Братья Полиши сняли весьма нестандартное кино....   \n",
              "10698     2719  Нортфорк  Это совершенно странный, малобюджетный фильм, ...   \n",
              "10699     2719  Нортфорк  «Northfork», этапное произведение братьев Поли...   \n",
              "10700     2719  Нортфорк  Этот фильм — памятник детству с его сказками и...   \n",
              "10701     2719  Нортфорк  Вы когда-нибудь задумывались, куда же делись з...   \n",
              "\n",
              "        pos/neg  user_likes  user_dislikes  \n",
              "10697  NEGATIVE           9              6  \n",
              "10698  POSITIVE          10              1  \n",
              "10699  POSITIVE          10              1  \n",
              "10700  POSITIVE          13              6  \n",
              "10701  POSITIVE          27              5  "
            ],
            "text/html": [
              "\n",
              "  <div id=\"df-080c382d-a64a-477e-813f-95296347bf42\">\n",
              "    <div class=\"colab-df-container\">\n",
              "      <div>\n",
              "<style scoped>\n",
              "    .dataframe tbody tr th:only-of-type {\n",
              "        vertical-align: middle;\n",
              "    }\n",
              "\n",
              "    .dataframe tbody tr th {\n",
              "        vertical-align: top;\n",
              "    }\n",
              "\n",
              "    .dataframe thead th {\n",
              "        text-align: right;\n",
              "    }\n",
              "</style>\n",
              "<table border=\"1\" class=\"dataframe\">\n",
              "  <thead>\n",
              "    <tr style=\"text-align: right;\">\n",
              "      <th></th>\n",
              "      <th>film_id</th>\n",
              "      <th>film_name</th>\n",
              "      <th>film_review</th>\n",
              "      <th>pos/neg</th>\n",
              "      <th>user_likes</th>\n",
              "      <th>user_dislikes</th>\n",
              "    </tr>\n",
              "  </thead>\n",
              "  <tbody>\n",
              "    <tr>\n",
              "      <th>10697</th>\n",
              "      <td>2719</td>\n",
              "      <td>Нортфорк</td>\n",
              "      <td>Братья Полиши сняли весьма нестандартное кино....</td>\n",
              "      <td>NEGATIVE</td>\n",
              "      <td>9</td>\n",
              "      <td>6</td>\n",
              "    </tr>\n",
              "    <tr>\n",
              "      <th>10698</th>\n",
              "      <td>2719</td>\n",
              "      <td>Нортфорк</td>\n",
              "      <td>Это совершенно странный, малобюджетный фильм, ...</td>\n",
              "      <td>POSITIVE</td>\n",
              "      <td>10</td>\n",
              "      <td>1</td>\n",
              "    </tr>\n",
              "    <tr>\n",
              "      <th>10699</th>\n",
              "      <td>2719</td>\n",
              "      <td>Нортфорк</td>\n",
              "      <td>«Northfork», этапное произведение братьев Поли...</td>\n",
              "      <td>POSITIVE</td>\n",
              "      <td>10</td>\n",
              "      <td>1</td>\n",
              "    </tr>\n",
              "    <tr>\n",
              "      <th>10700</th>\n",
              "      <td>2719</td>\n",
              "      <td>Нортфорк</td>\n",
              "      <td>Этот фильм — памятник детству с его сказками и...</td>\n",
              "      <td>POSITIVE</td>\n",
              "      <td>13</td>\n",
              "      <td>6</td>\n",
              "    </tr>\n",
              "    <tr>\n",
              "      <th>10701</th>\n",
              "      <td>2719</td>\n",
              "      <td>Нортфорк</td>\n",
              "      <td>Вы когда-нибудь задумывались, куда же делись з...</td>\n",
              "      <td>POSITIVE</td>\n",
              "      <td>27</td>\n",
              "      <td>5</td>\n",
              "    </tr>\n",
              "  </tbody>\n",
              "</table>\n",
              "</div>\n",
              "      <button class=\"colab-df-convert\" onclick=\"convertToInteractive('df-080c382d-a64a-477e-813f-95296347bf42')\"\n",
              "              title=\"Convert this dataframe to an interactive table.\"\n",
              "              style=\"display:none;\">\n",
              "        \n",
              "  <svg xmlns=\"http://www.w3.org/2000/svg\" height=\"24px\"viewBox=\"0 0 24 24\"\n",
              "       width=\"24px\">\n",
              "    <path d=\"M0 0h24v24H0V0z\" fill=\"none\"/>\n",
              "    <path d=\"M18.56 5.44l.94 2.06.94-2.06 2.06-.94-2.06-.94-.94-2.06-.94 2.06-2.06.94zm-11 1L8.5 8.5l.94-2.06 2.06-.94-2.06-.94L8.5 2.5l-.94 2.06-2.06.94zm10 10l.94 2.06.94-2.06 2.06-.94-2.06-.94-.94-2.06-.94 2.06-2.06.94z\"/><path d=\"M17.41 7.96l-1.37-1.37c-.4-.4-.92-.59-1.43-.59-.52 0-1.04.2-1.43.59L10.3 9.45l-7.72 7.72c-.78.78-.78 2.05 0 2.83L4 21.41c.39.39.9.59 1.41.59.51 0 1.02-.2 1.41-.59l7.78-7.78 2.81-2.81c.8-.78.8-2.07 0-2.86zM5.41 20L4 18.59l7.72-7.72 1.47 1.35L5.41 20z\"/>\n",
              "  </svg>\n",
              "      </button>\n",
              "      \n",
              "  <style>\n",
              "    .colab-df-container {\n",
              "      display:flex;\n",
              "      flex-wrap:wrap;\n",
              "      gap: 12px;\n",
              "    }\n",
              "\n",
              "    .colab-df-convert {\n",
              "      background-color: #E8F0FE;\n",
              "      border: none;\n",
              "      border-radius: 50%;\n",
              "      cursor: pointer;\n",
              "      display: none;\n",
              "      fill: #1967D2;\n",
              "      height: 32px;\n",
              "      padding: 0 0 0 0;\n",
              "      width: 32px;\n",
              "    }\n",
              "\n",
              "    .colab-df-convert:hover {\n",
              "      background-color: #E2EBFA;\n",
              "      box-shadow: 0px 1px 2px rgba(60, 64, 67, 0.3), 0px 1px 3px 1px rgba(60, 64, 67, 0.15);\n",
              "      fill: #174EA6;\n",
              "    }\n",
              "\n",
              "    [theme=dark] .colab-df-convert {\n",
              "      background-color: #3B4455;\n",
              "      fill: #D2E3FC;\n",
              "    }\n",
              "\n",
              "    [theme=dark] .colab-df-convert:hover {\n",
              "      background-color: #434B5C;\n",
              "      box-shadow: 0px 1px 3px 1px rgba(0, 0, 0, 0.15);\n",
              "      filter: drop-shadow(0px 1px 2px rgba(0, 0, 0, 0.3));\n",
              "      fill: #FFFFFF;\n",
              "    }\n",
              "  </style>\n",
              "\n",
              "      <script>\n",
              "        const buttonEl =\n",
              "          document.querySelector('#df-080c382d-a64a-477e-813f-95296347bf42 button.colab-df-convert');\n",
              "        buttonEl.style.display =\n",
              "          google.colab.kernel.accessAllowed ? 'block' : 'none';\n",
              "\n",
              "        async function convertToInteractive(key) {\n",
              "          const element = document.querySelector('#df-080c382d-a64a-477e-813f-95296347bf42');\n",
              "          const dataTable =\n",
              "            await google.colab.kernel.invokeFunction('convertToInteractive',\n",
              "                                                     [key], {});\n",
              "          if (!dataTable) return;\n",
              "\n",
              "          const docLinkHtml = 'Like what you see? Visit the ' +\n",
              "            '<a target=\"_blank\" href=https://colab.research.google.com/notebooks/data_table.ipynb>data table notebook</a>'\n",
              "            + ' to learn more about interactive tables.';\n",
              "          element.innerHTML = '';\n",
              "          dataTable['output_type'] = 'display_data';\n",
              "          await google.colab.output.renderOutput(dataTable, element);\n",
              "          const docLink = document.createElement('div');\n",
              "          docLink.innerHTML = docLinkHtml;\n",
              "          element.appendChild(docLink);\n",
              "        }\n",
              "      </script>\n",
              "    </div>\n",
              "  </div>\n",
              "  "
            ]
          },
          "metadata": {}
        }
      ]
    },
    {
      "cell_type": "code",
      "source": [
        "df = df[df['user_likes'] > 3]\n",
        "df['like_ratio'] = 0\n",
        "df['user_dislikes'] = df['user_dislikes'].replace(0, -1)\n",
        "df['like_ratio'] = df['user_likes'] / df['user_dislikes']\n",
        "df = df[df['like_ratio'] > 0.8]\n",
        "\n",
        "count_reviews = df['film_name'].value_counts().to_frame()\n",
        "print(count_reviews.shape)\n",
        "count_reviews = count_reviews[count_reviews['film_name'] >= 5]\n",
        "print(count_reviews.shape)\n",
        "\n",
        "idxs = count_reviews.index\n",
        "list_idxs = idxs.to_list()"
      ],
      "metadata": {
        "id": "bHE_ShD-czva"
      },
      "id": "bHE_ShD-czva",
      "execution_count": null,
      "outputs": []
    },
    {
      "cell_type": "code",
      "source": [
        "df = df.loc[df['film_name'].isin(list_idxs)]\n",
        "df = df[['film_name','film_review']]\n",
        "df = df.reset_index(drop=True)"
      ],
      "metadata": {
        "id": "aMwzYr4HfBUA"
      },
      "id": "aMwzYr4HfBUA",
      "execution_count": 5,
      "outputs": []
    },
    {
      "cell_type": "code",
      "source": [
        "import re\n",
        "\n",
        "# Удаляю \\n\n",
        "# Удаляю n из 10, начиная поиск с конца\n",
        "# Заменяю 2 и больше пробелов на 1\n",
        "\n",
        "def clean_review(review):\n",
        "  text = re.sub(r'\\n',\" \",review)\n",
        "  text = re.sub(r'\\r',\" \",text)\n",
        "  ind = text.rfind('из 10')\n",
        "  if text[ind - 2] == '0': text = text[:ind - 4]\n",
        "  else: text = text[:ind - 3]\n",
        "  text = re.sub(r\"[ ]{1,}\", \" \", text)\n",
        "  return text"
      ],
      "metadata": {
        "id": "84_d6aS63MMb"
      },
      "execution_count": 6,
      "outputs": [],
      "id": "84_d6aS63MMb"
    },
    {
      "cell_type": "code",
      "source": [
        "# Каждая строка начинается со слов \"Отзыв на фильм НАЗВАНИЕ: \"\n",
        "\n",
        "def add_train_prefix(review, film_name):\n",
        "  return f'Отзыв на фильм {film_name}: {review}'"
      ],
      "metadata": {
        "id": "JXhSSv8X-tjL"
      },
      "execution_count": 7,
      "outputs": [],
      "id": "JXhSSv8X-tjL"
    },
    {
      "cell_type": "code",
      "source": [
        "# Добавляю необходимую <s> разметку для обучения\n",
        "def train_format(review):\n",
        "  return f'<s>{review}</s>'"
      ],
      "metadata": {
        "id": "yHUYmTJU8BUR"
      },
      "execution_count": 8,
      "outputs": [],
      "id": "yHUYmTJU8BUR"
    },
    {
      "cell_type": "code",
      "source": [
        "def replace_name(text, name):\n",
        "  return re.sub(r'Рекрут', name, text)"
      ],
      "metadata": {
        "id": "wAtJw2QR0dbU"
      },
      "id": "wAtJw2QR0dbU",
      "execution_count": 9,
      "outputs": []
    },
    {
      "cell_type": "code",
      "source": [
        "df['film_review'] = df['film_review'].apply(lambda x: clean_review(x))\n",
        "df['film_review'] = df['film_review'].apply(lambda x: add_train_prefix(x, 'Рекрут'))\n",
        "df['film_review'] = df['film_review'].apply(lambda x: train_format(x))\n",
        "df[\"film_review\"] = df.apply(lambda row: replace_name(row[\"film_review\"], row[\"film_name\"]), axis=1)"
      ],
      "metadata": {
        "id": "YBT_sinH7BLq"
      },
      "execution_count": 10,
      "outputs": [],
      "id": "YBT_sinH7BLq"
    },
    {
      "cell_type": "code",
      "source": [
        "# Оставляем только уникальные отзывы\n",
        "df = df.drop_duplicates()\n",
        "df = df.reset_index(drop=True)"
      ],
      "metadata": {
        "id": "7wf83-N22kix"
      },
      "id": "7wf83-N22kix",
      "execution_count": 11,
      "outputs": []
    },
    {
      "cell_type": "markdown",
      "source": [
        "### Summarize main text"
      ],
      "metadata": {
        "id": "1PfxPTD5FID4"
      },
      "id": "1PfxPTD5FID4"
    },
    {
      "cell_type": "code",
      "source": [
        ""
      ],
      "metadata": {
        "id": "3UxVWn2lFT3c"
      },
      "id": "3UxVWn2lFT3c",
      "execution_count": null,
      "outputs": []
    },
    {
      "cell_type": "code",
      "source": [
        ""
      ],
      "metadata": {
        "id": "3BBXjccWFT7P"
      },
      "id": "3BBXjccWFT7P",
      "execution_count": null,
      "outputs": []
    },
    {
      "cell_type": "code",
      "source": [
        ""
      ],
      "metadata": {
        "id": "unWWcvz3FT95"
      },
      "id": "unWWcvz3FT95",
      "execution_count": null,
      "outputs": []
    },
    {
      "cell_type": "markdown",
      "source": [
        "### Split on train / test sets"
      ],
      "metadata": {
        "id": "9iqOExeJE_qe"
      },
      "id": "9iqOExeJE_qe"
    },
    {
      "cell_type": "code",
      "source": [
        "# Формирую список уникальных названий фильмов\n",
        "# Инициализирую train и test (copy df) датафреймы\n",
        "# запускаю цикл, где прохожусь по всем названиям\n",
        "# в цикле получаю имя, получаю индексы этих имен, добавляю строки в test по индексам, удаляю индексы в train\n",
        "\n",
        "\n",
        "def split_on_train_test(df, name_col, train_size = 0.8):\n",
        "  names = list(set(df[name_col]))\n",
        "  train_df = pd.DataFrame(columns = df.columns)\n",
        "  test_df = df.copy()\n",
        "  # display(train_df)\n",
        "\n",
        "  for name in names:\n",
        "    idx = list(df[df['film_name'] == name].index)\n",
        "    size = int(len(idx) * train_size)\n",
        "    print(idx, size)\n",
        "    train_idx = np.random.choice(idx, size = size, replace = False)\n",
        "    train_df = pd.concat([train_df, df.loc[train_idx]], ignore_index = True)\n",
        "    test_df = test_df.drop(labels = train_idx, axis = 0)\n",
        "  \n",
        "  return train_df, test_df\n",
        "\n",
        "\n",
        "train_df, test_df = split_on_train_test(df, 'film_name', train_size = 0.8)"
      ],
      "metadata": {
        "id": "G85x8gKw5XsP"
      },
      "id": "G85x8gKw5XsP",
      "execution_count": null,
      "outputs": []
    },
    {
      "cell_type": "code",
      "source": [
        "train = train_df['film_review'].to_list()\n",
        "valid = test_df['film_review'].to_list()"
      ],
      "metadata": {
        "id": "ecxAUQ1wxWh2"
      },
      "id": "ecxAUQ1wxWh2",
      "execution_count": 37,
      "outputs": []
    },
    {
      "cell_type": "code",
      "source": [
        "with open(\"train.txt\", \"w\") as file:\n",
        "    file.write(\"\\n\".join(train))"
      ],
      "metadata": {
        "id": "vAsfsF8nFLU_"
      },
      "execution_count": 38,
      "outputs": [],
      "id": "vAsfsF8nFLU_"
    },
    {
      "cell_type": "code",
      "source": [
        "with open(\"valid.txt\", \"w\") as file:\n",
        "    file.write(\"\\n\".join(valid))"
      ],
      "metadata": {
        "id": "1rZw3JgSHND1"
      },
      "execution_count": 39,
      "outputs": [],
      "id": "1rZw3JgSHND1"
    },
    {
      "cell_type": "code",
      "source": [
        ""
      ],
      "metadata": {
        "id": "ZlkIaAEVbg3f"
      },
      "id": "ZlkIaAEVbg3f",
      "execution_count": null,
      "outputs": []
    },
    {
      "cell_type": "code",
      "source": [
        "### "
      ],
      "metadata": {
        "id": "VCHo2qeubg6u"
      },
      "id": "VCHo2qeubg6u",
      "execution_count": null,
      "outputs": []
    },
    {
      "cell_type": "code",
      "source": [
        ""
      ],
      "metadata": {
        "id": "Rd9i2Gl5CkKl"
      },
      "id": "Rd9i2Gl5CkKl",
      "execution_count": null,
      "outputs": []
    },
    {
      "cell_type": "code",
      "source": [
        ""
      ],
      "metadata": {
        "id": "BW1fVRJVCkN8"
      },
      "id": "BW1fVRJVCkN8",
      "execution_count": null,
      "outputs": []
    },
    {
      "cell_type": "markdown",
      "source": [
        "### Summarization"
      ],
      "metadata": {
        "id": "rBb5vvJNCkQ0"
      },
      "id": "rBb5vvJNCkQ0"
    },
    {
      "cell_type": "code",
      "source": [
        "# Divide text on sentences and cleaning up symbol junk\n",
        "def get_sentences(file_name):\n",
        "  article = re.split('; |\\. |\\n', file_name)\n",
        "  sentences = []\n",
        "  \n",
        "  for sentence in article:\n",
        "    sentence = re.sub(r\"ё\", \"е\", sentence)\n",
        "    sentence = re.sub(r\"[^а-яА-Я]\", \" \", sentence)\n",
        "    sentence = re.sub(r\"[ ]{1,}\", \" \", sentence)\n",
        "    sentence = sentence.split(\" \")\n",
        "    if len(sentence) < 4 and len(sentence) > 30: continue\n",
        "    for wd in sentence: \n",
        "      if wd == '': sentence.remove(wd)\n",
        "    sentences.append(sentence)\n",
        "\n",
        "  for sentence in sentences:\n",
        "    if len(sentence) < 4: sentences.remove(sentence)\n",
        "\n",
        "  return sentences"
      ],
      "metadata": {
        "id": "JIl2Ll137hxD"
      },
      "execution_count": null,
      "outputs": [],
      "id": "JIl2Ll137hxD"
    },
    {
      "cell_type": "code",
      "source": [
        "# Evaluate sentences similarity with cosine distance\n",
        "def sentence_similarity(sent1, sent2, stopwords=None):\n",
        "  if stopwords is None:\n",
        "    stopwords = []\n",
        "\n",
        "  sent1 = [w.lower() for w in sent1]\n",
        "  sent2 = [w.lower() for w in sent2]\n",
        "\n",
        "  all_words = list(set(sent1 + sent2))\n",
        "\n",
        "  vector1 = [0] * len(all_words)\n",
        "  vector2 = [0] * len(all_words)\n",
        "\n",
        "  # build the vector for the first sentence\n",
        "  for w in sent1:\n",
        "    if w in stopwords:\n",
        "      continue\n",
        "    vector1[all_words.index(w)] += 1\n",
        "\n",
        "  # build the vector for the second sentence\n",
        "  for w in sent2:\n",
        "    if w in stopwords:\n",
        "        continue\n",
        "    vector2[all_words.index(w)] += 1\n",
        "\n",
        "  return 1 - cosine_distance(vector1, vector2)"
      ],
      "metadata": {
        "id": "6AO4Mx6O7l5e"
      },
      "execution_count": null,
      "outputs": [],
      "id": "6AO4Mx6O7l5e"
    },
    {
      "cell_type": "code",
      "source": [
        "# Build similarity matrix between sentences\n",
        "def build_similarity_matrix(sentences, stop_words):\n",
        "  # Create an empty similarity matrix\n",
        "  similarity_matrix = np.zeros((len(sentences), len(sentences)))\n",
        "  \n",
        "  for idx1 in range(len(sentences)):\n",
        "    for idx2 in range(len(sentences)):\n",
        "        if idx1 == idx2: #ignore if both are same sentences\n",
        "            continue\n",
        "        similarity_matrix[idx1][idx2] = sentence_similarity(sentences[idx1], sentences[idx2], stop_words)\n",
        "  return similarity_matrix"
      ],
      "metadata": {
        "id": "8-DY7t5YALqV"
      },
      "execution_count": null,
      "outputs": [],
      "id": "8-DY7t5YALqV"
    },
    {
      "cell_type": "code",
      "source": [
        "# Summary pipeline \n",
        "def generate_summary(file_name, stop_words, top_n=5):\n",
        "  summarize_text = []\n",
        "\n",
        "  # Step 1 - Read text anc split it\n",
        "  sentences =  get_sentences(file_name)\n",
        "  # Step 2 - Generate Similary Martix across sentences\n",
        "  sentence_similarity_martix = build_similarity_matrix(sentences, stop_words)\n",
        "  # Step 3 - Rank sentences in similarity martix\n",
        "  sentence_similarity_graph = nx.from_numpy_array(sentence_similarity_martix)\n",
        "  scores = nx.pagerank(sentence_similarity_graph)\n",
        "  max_score = sorted((scores[i] for i in range(len(scores))), reverse=True)[top_n - 1]\n",
        "  print(f'Threshold score for {top_n} sentences: {max_score}')\n",
        "\n",
        "  # Step 4 - Get extracted sentences in right sequence\n",
        "  ranked_sentence = [(scores[i],s) for i,s in enumerate(sentences)]\n",
        "  result = []\n",
        "  for sent_set in ranked_sentence:\n",
        "    if sent_set[0] >= max_score:\n",
        "      result.append(' '.join(sent_set[1]))\n",
        "\n",
        "  return result"
      ],
      "metadata": {
        "id": "uFZsgjtlX3vS"
      },
      "execution_count": null,
      "outputs": [],
      "id": "uFZsgjtlX3vS"
    },
    {
      "cell_type": "code",
      "source": [
        "summary = generate_summary(full_text, stop_words_dict, 5)\n",
        "summary"
      ],
      "metadata": {
        "colab": {
          "base_uri": "https://localhost:8080/"
        },
        "id": "ru6y7yDsY4ud",
        "outputId": "516cc428-e9f3-4cd2-be53-2eb48e97d2c9"
      },
      "execution_count": null,
      "outputs": [
        {
          "output_type": "stream",
          "name": "stdout",
          "text": [
            "Threshold score for 5 sentences: 0.03655188631454692\n"
          ]
        },
        {
          "output_type": "execute_result",
          "data": {
            "text/plain": [
              "['Можно вписать второго поставщика но принципиально ни у кого на рынке медизделий это картину не меняет',\n",
              " 'Консерванты в России можно достать',\n",
              " 'В случае все того же геля для УЗИ это может означать как просто разный срок техпроцессов например набухание геля трое суток вместо суток что сразу же означает перенастройку производства и плавающие цены на партии из за изменения себестоимости так и более серьезные вещи вроде изменения итоговой формулы',\n",
              " 'Конечно в итоге мы выстроим заново работу с китайскими поставщиками понадобится другой контроль партий возможно на их стороне',\n",
              " 'Хороший полимер для этого геля для УЗИ есть кроме Европы еще в Индии и в Японии']"
            ]
          },
          "metadata": {},
          "execution_count": 344
        }
      ],
      "id": "ru6y7yDsY4ud"
    }
  ],
  "metadata": {
    "kernelspec": {
      "display_name": "Python 3 (ipykernel)",
      "language": "python",
      "name": "python3"
    },
    "language_info": {
      "codemirror_mode": {
        "name": "ipython",
        "version": 3
      },
      "file_extension": ".py",
      "mimetype": "text/x-python",
      "name": "python",
      "nbconvert_exporter": "python",
      "pygments_lexer": "ipython3",
      "version": "3.8.10"
    },
    "colab": {
      "name": "get_film.ipynb",
      "provenance": [],
      "collapsed_sections": [
        "RtS23DIyL0Hy",
        "kbMYbAxRL9VH",
        "rBb5vvJNCkQ0"
      ]
    }
  },
  "nbformat": 4,
  "nbformat_minor": 5
}